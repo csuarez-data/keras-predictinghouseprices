{
 "cells": [
  {
   "cell_type": "code",
   "execution_count": 286,
   "metadata": {},
   "outputs": [],
   "source": [
    "import numpy as np\n",
    "import pandas as pd\n",
    "import matplotlib.pyplot as plt\n",
    "import seaborn as sns\n",
    "%matplotlib inline"
   ]
  },
  {
   "cell_type": "code",
   "execution_count": 287,
   "metadata": {},
   "outputs": [],
   "source": [
    "df = pd.read_csv('ppd_data-1.csv')"
   ]
  },
  {
   "cell_type": "code",
   "execution_count": 288,
   "metadata": {},
   "outputs": [],
   "source": [
    "df = df.drop(df.columns[15:],axis=1)"
   ]
  },
  {
   "cell_type": "code",
   "execution_count": 289,
   "metadata": {},
   "outputs": [
    {
     "name": "stdout",
     "output_type": "stream",
     "text": [
      "<class 'pandas.core.frame.DataFrame'>\n",
      "RangeIndex: 31639 entries, 0 to 31638\n",
      "Data columns (total 15 columns):\n",
      "unique_id               31639 non-null object\n",
      "price_paid              31639 non-null int64\n",
      "deed_date               31639 non-null object\n",
      "postcode                31597 non-null object\n",
      "property_type           31639 non-null object\n",
      "new_build               31639 non-null object\n",
      "estate_type             31639 non-null object\n",
      "saon                    6101 non-null object\n",
      "paon                    31639 non-null object\n",
      "street                  31639 non-null object\n",
      "locality                5744 non-null object\n",
      "town                    31639 non-null object\n",
      "district                31639 non-null object\n",
      "county                  31639 non-null object\n",
      "transaction_category    31639 non-null object\n",
      "dtypes: int64(1), object(14)\n",
      "memory usage: 3.6+ MB\n"
     ]
    }
   ],
   "source": [
    "df.info()"
   ]
  },
  {
   "cell_type": "code",
   "execution_count": 290,
   "metadata": {},
   "outputs": [],
   "source": [
    "df = df[df['price_paid'] <= 2000000 ] "
   ]
  },
  {
   "cell_type": "code",
   "execution_count": 291,
   "metadata": {},
   "outputs": [
    {
     "data": {
      "text/plain": [
       "<matplotlib.axes._subplots.AxesSubplot at 0x23f4e7aa488>"
      ]
     },
     "execution_count": 291,
     "metadata": {},
     "output_type": "execute_result"
    },
    {
     "data": {
      "image/png": "[encoded data removed]",
      "text/plain": [
       "<Figure size 720x360 with 1 Axes>"
      ]
     },
     "metadata": {
      "needs_background": "light"
     },
     "output_type": "display_data"
    }
   ],
   "source": [
    "plt.figure(figsize=(10,5))\n",
    "df['price_paid'].plot(kind='hist',bins=50)"
   ]
  },
  {
   "cell_type": "code",
   "execution_count": 292,
   "metadata": {},
   "outputs": [
    {
     "data": {
      "text/html": [
       "<div>\n",
       "<style scoped>\n",
       "    .dataframe tbody tr th:only-of-type {\n",
       "        vertical-align: middle;\n",
       "    }\n",
       "\n",
       "    .dataframe tbody tr th {\n",
       "        vertical-align: top;\n",
       "    }\n",
       "\n",
       "    .dataframe thead th {\n",
       "        text-align: right;\n",
       "    }\n",
       "</style>\n",
       "<table border=\"1\" class=\"dataframe\">\n",
       "  <thead>\n",
       "    <tr style=\"text-align: right;\">\n",
       "      <th></th>\n",
       "      <th>unique_id</th>\n",
       "      <th>price_paid</th>\n",
       "      <th>deed_date</th>\n",
       "      <th>postcode</th>\n",
       "      <th>property_type</th>\n",
       "      <th>new_build</th>\n",
       "      <th>estate_type</th>\n",
       "      <th>saon</th>\n",
       "      <th>paon</th>\n",
       "      <th>street</th>\n",
       "      <th>locality</th>\n",
       "      <th>town</th>\n",
       "      <th>district</th>\n",
       "      <th>county</th>\n",
       "      <th>transaction_category</th>\n",
       "    </tr>\n",
       "  </thead>\n",
       "  <tbody>\n",
       "    <tr>\n",
       "      <td>0</td>\n",
       "      <td>98C75472-AD44-72E9-E053-6B04A8C042F0</td>\n",
       "      <td>1200000</td>\n",
       "      <td>2019-10-31</td>\n",
       "      <td>E10 5AB</td>\n",
       "      <td>O</td>\n",
       "      <td>N</td>\n",
       "      <td>F</td>\n",
       "      <td>NaN</td>\n",
       "      <td>725</td>\n",
       "      <td>HIGH ROAD LEYTON</td>\n",
       "      <td>NaN</td>\n",
       "      <td>LONDON</td>\n",
       "      <td>WALTHAM FOREST</td>\n",
       "      <td>GREATER LONDON</td>\n",
       "      <td>B</td>\n",
       "    </tr>\n",
       "    <tr>\n",
       "      <td>1</td>\n",
       "      <td>98C75472-AD6A-72E9-E053-6B04A8C042F0</td>\n",
       "      <td>1200000</td>\n",
       "      <td>2019-10-31</td>\n",
       "      <td>E10 5AB</td>\n",
       "      <td>O</td>\n",
       "      <td>N</td>\n",
       "      <td>F</td>\n",
       "      <td>NaN</td>\n",
       "      <td>729</td>\n",
       "      <td>HIGH ROAD LEYTON</td>\n",
       "      <td>NaN</td>\n",
       "      <td>LONDON</td>\n",
       "      <td>WALTHAM FOREST</td>\n",
       "      <td>GREATER LONDON</td>\n",
       "      <td>B</td>\n",
       "    </tr>\n",
       "    <tr>\n",
       "      <td>2</td>\n",
       "      <td>115106E9-BB7B-40E4-8E3F-04BE1955531C</td>\n",
       "      <td>300000</td>\n",
       "      <td>2014-02-14</td>\n",
       "      <td>E10 5AB</td>\n",
       "      <td>T</td>\n",
       "      <td>N</td>\n",
       "      <td>F</td>\n",
       "      <td>NaN</td>\n",
       "      <td>741</td>\n",
       "      <td>HIGH ROAD LEYTON</td>\n",
       "      <td>NaN</td>\n",
       "      <td>LONDON</td>\n",
       "      <td>WALTHAM FOREST</td>\n",
       "      <td>GREATER LONDON</td>\n",
       "      <td>A</td>\n",
       "    </tr>\n",
       "    <tr>\n",
       "      <td>3</td>\n",
       "      <td>87E1551E-DAC2-6405-E053-6C04A8C0B2EE</td>\n",
       "      <td>475000</td>\n",
       "      <td>2019-04-01</td>\n",
       "      <td>E10 5AB</td>\n",
       "      <td>O</td>\n",
       "      <td>N</td>\n",
       "      <td>F</td>\n",
       "      <td>NaN</td>\n",
       "      <td>775</td>\n",
       "      <td>HIGH ROAD LEYTON</td>\n",
       "      <td>NaN</td>\n",
       "      <td>LONDON</td>\n",
       "      <td>WALTHAM FOREST</td>\n",
       "      <td>GREATER LONDON</td>\n",
       "      <td>B</td>\n",
       "    </tr>\n",
       "    <tr>\n",
       "      <td>4</td>\n",
       "      <td>6F780634-0B87-4590-A8BC-DE45C7106587</td>\n",
       "      <td>250000</td>\n",
       "      <td>2014-10-03</td>\n",
       "      <td>E10 5AD</td>\n",
       "      <td>F</td>\n",
       "      <td>N</td>\n",
       "      <td>L</td>\n",
       "      <td>FLAT 2</td>\n",
       "      <td>AYERST COURT, 162</td>\n",
       "      <td>BEAUMONT ROAD</td>\n",
       "      <td>NaN</td>\n",
       "      <td>LONDON</td>\n",
       "      <td>WALTHAM FOREST</td>\n",
       "      <td>GREATER LONDON</td>\n",
       "      <td>A</td>\n",
       "    </tr>\n",
       "  </tbody>\n",
       "</table>\n",
       "</div>"
      ],
      "text/plain": [
       "                              unique_id  price_paid   deed_date postcode  \\\n",
       "0  98C75472-AD44-72E9-E053-6B04A8C042F0     1200000  2019-10-31  E10 5AB   \n",
       "1  98C75472-AD6A-72E9-E053-6B04A8C042F0     1200000  2019-10-31  E10 5AB   \n",
       "2  115106E9-BB7B-40E4-8E3F-04BE1955531C      300000  2014-02-14  E10 5AB   \n",
       "3  87E1551E-DAC2-6405-E053-6C04A8C0B2EE      475000  2019-04-01  E10 5AB   \n",
       "4  6F780634-0B87-4590-A8BC-DE45C7106587      250000  2014-10-03  E10 5AD   \n",
       "\n",
       "  property_type new_build estate_type    saon               paon  \\\n",
       "0             O         N           F     NaN                725   \n",
       "1             O         N           F     NaN                729   \n",
       "2             T         N           F     NaN                741   \n",
       "3             O         N           F     NaN                775   \n",
       "4             F         N           L  FLAT 2  AYERST COURT, 162   \n",
       "\n",
       "             street locality    town        district          county  \\\n",
       "0  HIGH ROAD LEYTON      NaN  LONDON  WALTHAM FOREST  GREATER LONDON   \n",
       "1  HIGH ROAD LEYTON      NaN  LONDON  WALTHAM FOREST  GREATER LONDON   \n",
       "2  HIGH ROAD LEYTON      NaN  LONDON  WALTHAM FOREST  GREATER LONDON   \n",
       "3  HIGH ROAD LEYTON      NaN  LONDON  WALTHAM FOREST  GREATER LONDON   \n",
       "4     BEAUMONT ROAD      NaN  LONDON  WALTHAM FOREST  GREATER LONDON   \n",
       "\n",
       "  transaction_category  \n",
       "0                    B  \n",
       "1                    B  \n",
       "2                    A  \n",
       "3                    B  \n",
       "4                    A  "
      ]
     },
     "execution_count": 292,
     "metadata": {},
     "output_type": "execute_result"
    }
   ],
   "source": [
    "df.head()"
   ]
  },
  {
   "cell_type": "code",
   "execution_count": 293,
   "metadata": {},
   "outputs": [
    {
     "data": {
      "text/plain": [
       "362024.1034242232"
      ]
     },
     "execution_count": 293,
     "metadata": {},
     "output_type": "execute_result"
    }
   ],
   "source": [
    "df['price_paid'].mean()"
   ]
  },
  {
   "cell_type": "code",
   "execution_count": 294,
   "metadata": {},
   "outputs": [
    {
     "data": {
      "text/plain": [
       "<matplotlib.axes._subplots.AxesSubplot at 0x23f4e6d8b48>"
      ]
     },
     "execution_count": 294,
     "metadata": {},
     "output_type": "execute_result"
    },
    {
     "data": {
      "image/png": "[encoded data removed]",
      "text/plain": [
       "<Figure size 432x288 with 1 Axes>"
      ]
     },
     "metadata": {
      "needs_background": "light"
     },
     "output_type": "display_data"
    }
   ],
   "source": [
    "sns.countplot(data=df,x='new_build',palette='coolwarm')"
   ]
  },
  {
   "cell_type": "code",
   "execution_count": 295,
   "metadata": {},
   "outputs": [
    {
     "data": {
      "text/plain": [
       "<matplotlib.axes._subplots.AxesSubplot at 0x23f4e728208>"
      ]
     },
     "execution_count": 295,
     "metadata": {},
     "output_type": "execute_result"
    },
    {
     "data": {
      "image/png": "[encoded data removed]",
      "text/plain": [
       "<Figure size 432x288 with 1 Axes>"
      ]
     },
     "metadata": {
      "needs_background": "light"
     },
     "output_type": "display_data"
    }
   ],
   "source": [
    "sns.countplot(data=df,x='property_type',palette='coolwarm')"
   ]
  },
  {
   "cell_type": "code",
   "execution_count": 296,
   "metadata": {},
   "outputs": [
    {
     "data": {
      "text/plain": [
       "<matplotlib.axes._subplots.AxesSubplot at 0x23f4e77f908>"
      ]
     },
     "execution_count": 296,
     "metadata": {},
     "output_type": "execute_result"
    },
    {
     "data": {
      "image/png": "[encoded data removed]",
      "text/plain": [
       "<Figure size 432x288 with 1 Axes>"
      ]
     },
     "metadata": {
      "needs_background": "light"
     },
     "output_type": "display_data"
    }
   ],
   "source": [
    "sns.countplot(data=df,x='estate_type',palette='coolwarm')"
   ]
  },
  {
   "cell_type": "code",
   "execution_count": 297,
   "metadata": {},
   "outputs": [
    {
     "data": {
      "text/plain": [
       "<matplotlib.axes._subplots.AxesSubplot at 0x23f4e83c8c8>"
      ]
     },
     "execution_count": 297,
     "metadata": {},
     "output_type": "execute_result"
    },
    {
     "data": {
      "image/png": "[encoded data removed]",
      "text/plain": [
       "<Figure size 432x288 with 1 Axes>"
      ]
     },
     "metadata": {
      "needs_background": "light"
     },
     "output_type": "display_data"
    }
   ],
   "source": [
    "sns.countplot(data=df,x='transaction_category',palette='coolwarm')"
   ]
  },
  {
   "cell_type": "code",
   "execution_count": 298,
   "metadata": {},
   "outputs": [],
   "source": [
    "df['deed_date'] = pd.to_datetime(df['deed_date'])"
   ]
  },
  {
   "cell_type": "code",
   "execution_count": 299,
   "metadata": {},
   "outputs": [],
   "source": [
    "df['year'] = df['deed_date'].apply(lambda date : date.year )"
   ]
  },
  {
   "cell_type": "code",
   "execution_count": 300,
   "metadata": {},
   "outputs": [],
   "source": [
    "df['month'] = df['deed_date'].apply(lambda date : date.month)"
   ]
  },
  {
   "cell_type": "code",
   "execution_count": 301,
   "metadata": {},
   "outputs": [
    {
     "data": {
      "text/plain": [
       "<matplotlib.axes._subplots.AxesSubplot at 0x23f4e892308>"
      ]
     },
     "execution_count": 301,
     "metadata": {},
     "output_type": "execute_result"
    },
    {
     "data": {
      "image/png": "[encoded data removed]",
      "text/plain": [
       "<Figure size 432x288 with 1 Axes>"
      ]
     },
     "metadata": {
      "needs_background": "light"
     },
     "output_type": "display_data"
    }
   ],
   "source": [
    "df['month'].plot(kind='hist') #December and January most popular months to close on houses"
   ]
  },
  {
   "cell_type": "code",
   "execution_count": 302,
   "metadata": {},
   "outputs": [
    {
     "data": {
      "text/plain": [
       "<matplotlib.axes._subplots.AxesSubplot at 0x23f4ec4b7c8>"
      ]
     },
     "execution_count": 302,
     "metadata": {},
     "output_type": "execute_result"
    },
    {
     "data": {
      "image/png": "[encoded data removed]",
      "text/plain": [
       "<Figure size 432x288 with 1 Axes>"
      ]
     },
     "metadata": {
      "needs_background": "light"
     },
     "output_type": "display_data"
    }
   ],
   "source": [
    "df['year'].plot(kind='hist') #2014 and 2015 peak year of houses sold in Waltham Forest"
   ]
  },
  {
   "cell_type": "code",
   "execution_count": 303,
   "metadata": {},
   "outputs": [
    {
     "data": {
      "text/plain": [
       "<matplotlib.axes._subplots.AxesSubplot at 0x23f4eca3048>"
      ]
     },
     "execution_count": 303,
     "metadata": {},
     "output_type": "execute_result"
    },
    {
     "data": {
      "image/png": "[encoded data removed]",
      "text/plain": [
       "<Figure size 720x360 with 1 Axes>"
      ]
     },
     "metadata": {
      "needs_background": "light"
     },
     "output_type": "display_data"
    }
   ],
   "source": [
    "plt.figure(figsize=(10,5))\n",
    "sns.boxplot(data=df,x='year',y='price_paid',palette='coolwarm') #median price paid has increased over time"
   ]
  },
  {
   "cell_type": "code",
   "execution_count": 304,
   "metadata": {},
   "outputs": [],
   "source": [
    "df['new_build'] = df['new_build'].map({'N':0,'Y':1})"
   ]
  },
  {
   "cell_type": "code",
   "execution_count": 305,
   "metadata": {},
   "outputs": [],
   "source": [
    "df['estate_type'] = df['estate_type'].map({'F':'Freehold','L':'Leasehold'})"
   ]
  },
  {
   "cell_type": "code",
   "execution_count": 306,
   "metadata": {},
   "outputs": [],
   "source": [
    "df['property_type'] = df['property_type'].map({'O':'Other','T':'Terraced','F':'Flat Maisonette','S':'Semi-Detached'\n",
    "                                              ,'D':'Detached'})"
   ]
  },
  {
   "cell_type": "code",
   "execution_count": 307,
   "metadata": {},
   "outputs": [],
   "source": [
    "df = df.drop(['transaction_category','unique_id','paon','saon','deed_date'],axis=1)"
   ]
  },
  {
   "cell_type": "code",
   "execution_count": 308,
   "metadata": {},
   "outputs": [
    {
     "data": {
      "text/plain": [
       "WALTHAMSTOW       2783\n",
       "LEYTON            1102\n",
       "CHINGFORD         1064\n",
       "LEYTONSTONE        722\n",
       "FOREST GATE         59\n",
       "HIGHAMS PARK         5\n",
       "WOODFORD GREEN       1\n",
       "Name: locality, dtype: int64"
      ]
     },
     "execution_count": 308,
     "metadata": {},
     "output_type": "execute_result"
    }
   ],
   "source": [
    "df['locality'].value_counts()"
   ]
  },
  {
   "cell_type": "code",
   "execution_count": 309,
   "metadata": {},
   "outputs": [
    {
     "data": {
      "text/plain": [
       "LONDON            30873\n",
       "WOODFORD GREEN      666\n",
       "ENFIELD               1\n",
       "Name: town, dtype: int64"
      ]
     },
     "execution_count": 309,
     "metadata": {},
     "output_type": "execute_result"
    }
   ],
   "source": [
    "df['town'].value_counts()"
   ]
  },
  {
   "cell_type": "code",
   "execution_count": 310,
   "metadata": {},
   "outputs": [
    {
     "data": {
      "text/plain": [
       "WALTHAM FOREST    31540\n",
       "Name: district, dtype: int64"
      ]
     },
     "execution_count": 310,
     "metadata": {},
     "output_type": "execute_result"
    }
   ],
   "source": [
    "df['district'].value_counts()"
   ]
  },
  {
   "cell_type": "code",
   "execution_count": 311,
   "metadata": {},
   "outputs": [
    {
     "data": {
      "text/plain": [
       "GREATER LONDON    31540\n",
       "Name: county, dtype: int64"
      ]
     },
     "execution_count": 311,
     "metadata": {},
     "output_type": "execute_result"
    }
   ],
   "source": [
    "df['county'].value_counts()"
   ]
  },
  {
   "cell_type": "code",
   "execution_count": 312,
   "metadata": {},
   "outputs": [],
   "source": [
    "df = df.drop(['district','county','town','locality'],axis=1)"
   ]
  },
  {
   "cell_type": "code",
   "execution_count": 313,
   "metadata": {},
   "outputs": [],
   "source": [
    "df = df.drop('street',axis=1)"
   ]
  },
  {
   "cell_type": "code",
   "execution_count": 314,
   "metadata": {},
   "outputs": [
    {
     "data": {
      "text/plain": [
       "E10 7JQ    151\n",
       "E10 5FA     99\n",
       "E4 9BF      87\n",
       "E17 9JD     82\n",
       "E17 5FU     81\n",
       "          ... \n",
       "E17 5YD      1\n",
       "E17 4FA      1\n",
       "E4 6NF       1\n",
       "IG8 9SE      1\n",
       "E9 5GZ       1\n",
       "Name: postcode, Length: 2929, dtype: int64"
      ]
     },
     "execution_count": 314,
     "metadata": {},
     "output_type": "execute_result"
    }
   ],
   "source": [
    "df['postcode'].value_counts()"
   ]
  },
  {
   "cell_type": "code",
   "execution_count": 315,
   "metadata": {},
   "outputs": [
    {
     "data": {
      "text/plain": [
       "28"
      ]
     },
     "execution_count": 315,
     "metadata": {},
     "output_type": "execute_result"
    }
   ],
   "source": [
    "#Remove last 2 characters from postcode string \n",
    "df['postcode_short'] = df['postcode'].str[:-2]\n",
    "#number of unique 4 digit postcodes in Waltham Forest\n",
    "df['postcode_short'].nunique()"
   ]
  },
  {
   "cell_type": "code",
   "execution_count": 282,
   "metadata": {},
   "outputs": [
    {
     "data": {
      "text/plain": [
       "<matplotlib.axes._subplots.AxesSubplot at 0x23f4d2baa08>"
      ]
     },
     "execution_count": 282,
     "metadata": {},
     "output_type": "execute_result"
    },
    {
     "data": {
      "image/png": "[encoded data removed]",
      "text/plain": [
       "<Figure size 720x432 with 1 Axes>"
      ]
     },
     "metadata": {
      "needs_background": "light"
     },
     "output_type": "display_data"
    }
   ],
   "source": [
    "plt.figure(figsize=(10,6))\n",
    "df['postcode_short'].value_counts().plot(kind='barh')"
   ]
  },
  {
   "cell_type": "code",
   "execution_count": 316,
   "metadata": {},
   "outputs": [
    {
     "data": {
      "text/plain": [
       "<matplotlib.axes._subplots.AxesSubplot at 0x23f4ef1a988>"
      ]
     },
     "execution_count": 316,
     "metadata": {},
     "output_type": "execute_result"
    },
    {
     "data": {
      "image/png": "[encoded data removed]",
      "text/plain": [
       "<Figure size 720x432 with 1 Axes>"
      ]
     },
     "metadata": {
      "needs_background": "light"
     },
     "output_type": "display_data"
    }
   ],
   "source": [
    "x2 = df['postcode_short'].str[:-2]\n",
    "plt.figure(figsize=(10,6))\n",
    "x2.value_counts().plot(kind='barh')"
   ]
  },
  {
   "cell_type": "code",
   "execution_count": 317,
   "metadata": {},
   "outputs": [
    {
     "data": {
      "text/html": [
       "<div>\n",
       "<style scoped>\n",
       "    .dataframe tbody tr th:only-of-type {\n",
       "        vertical-align: middle;\n",
       "    }\n",
       "\n",
       "    .dataframe tbody tr th {\n",
       "        vertical-align: top;\n",
       "    }\n",
       "\n",
       "    .dataframe thead th {\n",
       "        text-align: right;\n",
       "    }\n",
       "</style>\n",
       "<table border=\"1\" class=\"dataframe\">\n",
       "  <thead>\n",
       "    <tr style=\"text-align: right;\">\n",
       "      <th></th>\n",
       "      <th>price_paid</th>\n",
       "      <th>postcode</th>\n",
       "      <th>property_type</th>\n",
       "      <th>new_build</th>\n",
       "      <th>estate_type</th>\n",
       "      <th>year</th>\n",
       "      <th>month</th>\n",
       "      <th>postcode_short</th>\n",
       "    </tr>\n",
       "  </thead>\n",
       "  <tbody>\n",
       "    <tr>\n",
       "      <td>0</td>\n",
       "      <td>1200000</td>\n",
       "      <td>E10 5AB</td>\n",
       "      <td>Other</td>\n",
       "      <td>0</td>\n",
       "      <td>Freehold</td>\n",
       "      <td>2019</td>\n",
       "      <td>10</td>\n",
       "      <td>E10 5</td>\n",
       "    </tr>\n",
       "    <tr>\n",
       "      <td>1</td>\n",
       "      <td>1200000</td>\n",
       "      <td>E10 5AB</td>\n",
       "      <td>Other</td>\n",
       "      <td>0</td>\n",
       "      <td>Freehold</td>\n",
       "      <td>2019</td>\n",
       "      <td>10</td>\n",
       "      <td>E10 5</td>\n",
       "    </tr>\n",
       "    <tr>\n",
       "      <td>2</td>\n",
       "      <td>300000</td>\n",
       "      <td>E10 5AB</td>\n",
       "      <td>Terraced</td>\n",
       "      <td>0</td>\n",
       "      <td>Freehold</td>\n",
       "      <td>2014</td>\n",
       "      <td>2</td>\n",
       "      <td>E10 5</td>\n",
       "    </tr>\n",
       "    <tr>\n",
       "      <td>3</td>\n",
       "      <td>475000</td>\n",
       "      <td>E10 5AB</td>\n",
       "      <td>Other</td>\n",
       "      <td>0</td>\n",
       "      <td>Freehold</td>\n",
       "      <td>2019</td>\n",
       "      <td>4</td>\n",
       "      <td>E10 5</td>\n",
       "    </tr>\n",
       "    <tr>\n",
       "      <td>4</td>\n",
       "      <td>250000</td>\n",
       "      <td>E10 5AD</td>\n",
       "      <td>Flat Maisonette</td>\n",
       "      <td>0</td>\n",
       "      <td>Leasehold</td>\n",
       "      <td>2014</td>\n",
       "      <td>10</td>\n",
       "      <td>E10 5</td>\n",
       "    </tr>\n",
       "  </tbody>\n",
       "</table>\n",
       "</div>"
      ],
      "text/plain": [
       "   price_paid postcode    property_type  new_build estate_type  year  month  \\\n",
       "0     1200000  E10 5AB            Other          0    Freehold  2019     10   \n",
       "1     1200000  E10 5AB            Other          0    Freehold  2019     10   \n",
       "2      300000  E10 5AB         Terraced          0    Freehold  2014      2   \n",
       "3      475000  E10 5AB            Other          0    Freehold  2019      4   \n",
       "4      250000  E10 5AD  Flat Maisonette          0   Leasehold  2014     10   \n",
       "\n",
       "  postcode_short  \n",
       "0          E10 5  \n",
       "1          E10 5  \n",
       "2          E10 5  \n",
       "3          E10 5  \n",
       "4          E10 5  "
      ]
     },
     "execution_count": 317,
     "metadata": {},
     "output_type": "execute_result"
    }
   ],
   "source": [
    "df.head()"
   ]
  },
  {
   "cell_type": "code",
   "execution_count": 318,
   "metadata": {},
   "outputs": [],
   "source": [
    "df = df.dropna()"
   ]
  },
  {
   "cell_type": "code",
   "execution_count": 319,
   "metadata": {},
   "outputs": [],
   "source": [
    "df = df.drop('postcode',axis=1)"
   ]
  },
  {
   "cell_type": "code",
   "execution_count": 320,
   "metadata": {},
   "outputs": [],
   "source": [
    "df = df.drop('month',axis=1)"
   ]
  },
  {
   "cell_type": "code",
   "execution_count": 321,
   "metadata": {},
   "outputs": [
    {
     "data": {
      "text/plain": [
       "price_paid        0\n",
       "property_type     0\n",
       "new_build         0\n",
       "estate_type       0\n",
       "year              0\n",
       "postcode_short    0\n",
       "dtype: int64"
      ]
     },
     "execution_count": 321,
     "metadata": {},
     "output_type": "execute_result"
    }
   ],
   "source": [
    "df.isnull().sum()"
   ]
  },
  {
   "cell_type": "code",
   "execution_count": 322,
   "metadata": {},
   "outputs": [],
   "source": [
    "#Completely removed null values now onto creating dummy variables out of categorical features"
   ]
  },
  {
   "cell_type": "code",
   "execution_count": 323,
   "metadata": {},
   "outputs": [],
   "source": [
    "propertytype_dummies = pd.get_dummies(df['property_type'],drop_first=False)"
   ]
  },
  {
   "cell_type": "code",
   "execution_count": 324,
   "metadata": {},
   "outputs": [],
   "source": [
    "df = pd.concat([df.drop('property_type',axis=1),propertytype_dummies],axis=1)"
   ]
  },
  {
   "cell_type": "code",
   "execution_count": 325,
   "metadata": {},
   "outputs": [
    {
     "data": {
      "text/html": [
       "<div>\n",
       "<style scoped>\n",
       "    .dataframe tbody tr th:only-of-type {\n",
       "        vertical-align: middle;\n",
       "    }\n",
       "\n",
       "    .dataframe tbody tr th {\n",
       "        vertical-align: top;\n",
       "    }\n",
       "\n",
       "    .dataframe thead th {\n",
       "        text-align: right;\n",
       "    }\n",
       "</style>\n",
       "<table border=\"1\" class=\"dataframe\">\n",
       "  <thead>\n",
       "    <tr style=\"text-align: right;\">\n",
       "      <th></th>\n",
       "      <th>price_paid</th>\n",
       "      <th>new_build</th>\n",
       "      <th>estate_type</th>\n",
       "      <th>year</th>\n",
       "      <th>postcode_short</th>\n",
       "      <th>Detached</th>\n",
       "      <th>Flat Maisonette</th>\n",
       "      <th>Other</th>\n",
       "      <th>Semi-Detached</th>\n",
       "      <th>Terraced</th>\n",
       "    </tr>\n",
       "  </thead>\n",
       "  <tbody>\n",
       "    <tr>\n",
       "      <td>0</td>\n",
       "      <td>1200000</td>\n",
       "      <td>0</td>\n",
       "      <td>Freehold</td>\n",
       "      <td>2019</td>\n",
       "      <td>E10 5</td>\n",
       "      <td>0</td>\n",
       "      <td>0</td>\n",
       "      <td>1</td>\n",
       "      <td>0</td>\n",
       "      <td>0</td>\n",
       "    </tr>\n",
       "    <tr>\n",
       "      <td>1</td>\n",
       "      <td>1200000</td>\n",
       "      <td>0</td>\n",
       "      <td>Freehold</td>\n",
       "      <td>2019</td>\n",
       "      <td>E10 5</td>\n",
       "      <td>0</td>\n",
       "      <td>0</td>\n",
       "      <td>1</td>\n",
       "      <td>0</td>\n",
       "      <td>0</td>\n",
       "    </tr>\n",
       "    <tr>\n",
       "      <td>2</td>\n",
       "      <td>300000</td>\n",
       "      <td>0</td>\n",
       "      <td>Freehold</td>\n",
       "      <td>2014</td>\n",
       "      <td>E10 5</td>\n",
       "      <td>0</td>\n",
       "      <td>0</td>\n",
       "      <td>0</td>\n",
       "      <td>0</td>\n",
       "      <td>1</td>\n",
       "    </tr>\n",
       "    <tr>\n",
       "      <td>3</td>\n",
       "      <td>475000</td>\n",
       "      <td>0</td>\n",
       "      <td>Freehold</td>\n",
       "      <td>2019</td>\n",
       "      <td>E10 5</td>\n",
       "      <td>0</td>\n",
       "      <td>0</td>\n",
       "      <td>1</td>\n",
       "      <td>0</td>\n",
       "      <td>0</td>\n",
       "    </tr>\n",
       "    <tr>\n",
       "      <td>4</td>\n",
       "      <td>250000</td>\n",
       "      <td>0</td>\n",
       "      <td>Leasehold</td>\n",
       "      <td>2014</td>\n",
       "      <td>E10 5</td>\n",
       "      <td>0</td>\n",
       "      <td>1</td>\n",
       "      <td>0</td>\n",
       "      <td>0</td>\n",
       "      <td>0</td>\n",
       "    </tr>\n",
       "  </tbody>\n",
       "</table>\n",
       "</div>"
      ],
      "text/plain": [
       "   price_paid  new_build estate_type  year postcode_short  Detached  \\\n",
       "0     1200000          0    Freehold  2019          E10 5         0   \n",
       "1     1200000          0    Freehold  2019          E10 5         0   \n",
       "2      300000          0    Freehold  2014          E10 5         0   \n",
       "3      475000          0    Freehold  2019          E10 5         0   \n",
       "4      250000          0   Leasehold  2014          E10 5         0   \n",
       "\n",
       "   Flat Maisonette  Other  Semi-Detached  Terraced  \n",
       "0                0      1              0         0  \n",
       "1                0      1              0         0  \n",
       "2                0      0              0         1  \n",
       "3                0      1              0         0  \n",
       "4                1      0              0         0  "
      ]
     },
     "execution_count": 325,
     "metadata": {},
     "output_type": "execute_result"
    }
   ],
   "source": [
    "df.head()"
   ]
  },
  {
   "cell_type": "code",
   "execution_count": 326,
   "metadata": {},
   "outputs": [],
   "source": [
    "estate_type_dummies = pd.get_dummies(df['estate_type'],drop_first=False)\n",
    "df = pd.concat([df.drop('estate_type',axis=1),estate_type_dummies],axis=1)"
   ]
  },
  {
   "cell_type": "code",
   "execution_count": 335,
   "metadata": {},
   "outputs": [],
   "source": [
    "postcode_dummies = pd.get_dummies(df['postcode_short'],drop_first=False)\n",
    "df = pd.concat([df.drop('postcode_short',axis=1),postcode_dummies],axis=1)"
   ]
  },
  {
   "cell_type": "code",
   "execution_count": 336,
   "metadata": {},
   "outputs": [
    {
     "data": {
      "text/html": [
       "<div>\n",
       "<style scoped>\n",
       "    .dataframe tbody tr th:only-of-type {\n",
       "        vertical-align: middle;\n",
       "    }\n",
       "\n",
       "    .dataframe tbody tr th {\n",
       "        vertical-align: top;\n",
       "    }\n",
       "\n",
       "    .dataframe thead th {\n",
       "        text-align: right;\n",
       "    }\n",
       "</style>\n",
       "<table border=\"1\" class=\"dataframe\">\n",
       "  <thead>\n",
       "    <tr style=\"text-align: right;\">\n",
       "      <th></th>\n",
       "      <th>price_paid</th>\n",
       "      <th>new_build</th>\n",
       "      <th>year</th>\n",
       "      <th>Detached</th>\n",
       "      <th>Flat Maisonette</th>\n",
       "      <th>Other</th>\n",
       "      <th>Semi-Detached</th>\n",
       "      <th>Terraced</th>\n",
       "      <th>Freehold</th>\n",
       "      <th>Leasehold</th>\n",
       "      <th>...</th>\n",
       "      <th>E4 8</th>\n",
       "      <th>E4 9</th>\n",
       "      <th>E5 9</th>\n",
       "      <th>E7 0</th>\n",
       "      <th>E7 9</th>\n",
       "      <th>E9 5</th>\n",
       "      <th>EN3 4</th>\n",
       "      <th>IG8 0</th>\n",
       "      <th>IG8 9</th>\n",
       "      <th>N17 9</th>\n",
       "    </tr>\n",
       "  </thead>\n",
       "  <tbody>\n",
       "    <tr>\n",
       "      <td>0</td>\n",
       "      <td>1200000</td>\n",
       "      <td>0</td>\n",
       "      <td>2019</td>\n",
       "      <td>0</td>\n",
       "      <td>0</td>\n",
       "      <td>1</td>\n",
       "      <td>0</td>\n",
       "      <td>0</td>\n",
       "      <td>1</td>\n",
       "      <td>0</td>\n",
       "      <td>...</td>\n",
       "      <td>0</td>\n",
       "      <td>0</td>\n",
       "      <td>0</td>\n",
       "      <td>0</td>\n",
       "      <td>0</td>\n",
       "      <td>0</td>\n",
       "      <td>0</td>\n",
       "      <td>0</td>\n",
       "      <td>0</td>\n",
       "      <td>0</td>\n",
       "    </tr>\n",
       "    <tr>\n",
       "      <td>1</td>\n",
       "      <td>1200000</td>\n",
       "      <td>0</td>\n",
       "      <td>2019</td>\n",
       "      <td>0</td>\n",
       "      <td>0</td>\n",
       "      <td>1</td>\n",
       "      <td>0</td>\n",
       "      <td>0</td>\n",
       "      <td>1</td>\n",
       "      <td>0</td>\n",
       "      <td>...</td>\n",
       "      <td>0</td>\n",
       "      <td>0</td>\n",
       "      <td>0</td>\n",
       "      <td>0</td>\n",
       "      <td>0</td>\n",
       "      <td>0</td>\n",
       "      <td>0</td>\n",
       "      <td>0</td>\n",
       "      <td>0</td>\n",
       "      <td>0</td>\n",
       "    </tr>\n",
       "    <tr>\n",
       "      <td>2</td>\n",
       "      <td>300000</td>\n",
       "      <td>0</td>\n",
       "      <td>2014</td>\n",
       "      <td>0</td>\n",
       "      <td>0</td>\n",
       "      <td>0</td>\n",
       "      <td>0</td>\n",
       "      <td>1</td>\n",
       "      <td>1</td>\n",
       "      <td>0</td>\n",
       "      <td>...</td>\n",
       "      <td>0</td>\n",
       "      <td>0</td>\n",
       "      <td>0</td>\n",
       "      <td>0</td>\n",
       "      <td>0</td>\n",
       "      <td>0</td>\n",
       "      <td>0</td>\n",
       "      <td>0</td>\n",
       "      <td>0</td>\n",
       "      <td>0</td>\n",
       "    </tr>\n",
       "    <tr>\n",
       "      <td>3</td>\n",
       "      <td>475000</td>\n",
       "      <td>0</td>\n",
       "      <td>2019</td>\n",
       "      <td>0</td>\n",
       "      <td>0</td>\n",
       "      <td>1</td>\n",
       "      <td>0</td>\n",
       "      <td>0</td>\n",
       "      <td>1</td>\n",
       "      <td>0</td>\n",
       "      <td>...</td>\n",
       "      <td>0</td>\n",
       "      <td>0</td>\n",
       "      <td>0</td>\n",
       "      <td>0</td>\n",
       "      <td>0</td>\n",
       "      <td>0</td>\n",
       "      <td>0</td>\n",
       "      <td>0</td>\n",
       "      <td>0</td>\n",
       "      <td>0</td>\n",
       "    </tr>\n",
       "    <tr>\n",
       "      <td>4</td>\n",
       "      <td>250000</td>\n",
       "      <td>0</td>\n",
       "      <td>2014</td>\n",
       "      <td>0</td>\n",
       "      <td>1</td>\n",
       "      <td>0</td>\n",
       "      <td>0</td>\n",
       "      <td>0</td>\n",
       "      <td>0</td>\n",
       "      <td>1</td>\n",
       "      <td>...</td>\n",
       "      <td>0</td>\n",
       "      <td>0</td>\n",
       "      <td>0</td>\n",
       "      <td>0</td>\n",
       "      <td>0</td>\n",
       "      <td>0</td>\n",
       "      <td>0</td>\n",
       "      <td>0</td>\n",
       "      <td>0</td>\n",
       "      <td>0</td>\n",
       "    </tr>\n",
       "  </tbody>\n",
       "</table>\n",
       "<p>5 rows × 38 columns</p>\n",
       "</div>"
      ],
      "text/plain": [
       "   price_paid  new_build  year  Detached  Flat Maisonette  Other  \\\n",
       "0     1200000          0  2019         0                0      1   \n",
       "1     1200000          0  2019         0                0      1   \n",
       "2      300000          0  2014         0                0      0   \n",
       "3      475000          0  2019         0                0      1   \n",
       "4      250000          0  2014         0                1      0   \n",
       "\n",
       "   Semi-Detached  Terraced  Freehold  Leasehold  ...  E4 8  E4 9  E5 9  E7 0  \\\n",
       "0              0         0         1          0  ...     0     0     0     0   \n",
       "1              0         0         1          0  ...     0     0     0     0   \n",
       "2              0         1         1          0  ...     0     0     0     0   \n",
       "3              0         0         1          0  ...     0     0     0     0   \n",
       "4              0         0         0          1  ...     0     0     0     0   \n",
       "\n",
       "   E7 9  E9 5  EN3 4  IG8 0  IG8 9  N17 9  \n",
       "0     0     0      0      0      0      0  \n",
       "1     0     0      0      0      0      0  \n",
       "2     0     0      0      0      0      0  \n",
       "3     0     0      0      0      0      0  \n",
       "4     0     0      0      0      0      0  \n",
       "\n",
       "[5 rows x 38 columns]"
      ]
     },
     "execution_count": 336,
     "metadata": {},
     "output_type": "execute_result"
    }
   ],
   "source": [
    "df.head()"
   ]
  },
  {
   "cell_type": "code",
   "execution_count": 328,
   "metadata": {},
   "outputs": [],
   "source": [
    "from sklearn.model_selection import train_test_split"
   ]
  },
  {
   "cell_type": "code",
   "execution_count": 349,
   "metadata": {},
   "outputs": [],
   "source": [
    "#Passing through X & y in values for neural network model\n",
    "X = df.drop('price_paid',axis=1).values\n",
    "y = df['price_paid'].values"
   ]
  },
  {
   "cell_type": "code",
   "execution_count": 350,
   "metadata": {},
   "outputs": [],
   "source": [
    "X_train, X_test, y_train, y_test = train_test_split(X, y, test_size=0.3, random_state=101)"
   ]
  },
  {
   "cell_type": "code",
   "execution_count": 351,
   "metadata": {},
   "outputs": [],
   "source": [
    "from sklearn.preprocessing import MinMaxScaler"
   ]
  },
  {
   "cell_type": "code",
   "execution_count": 352,
   "metadata": {},
   "outputs": [],
   "source": [
    "scaler = MinMaxScaler()"
   ]
  },
  {
   "cell_type": "code",
   "execution_count": 353,
   "metadata": {},
   "outputs": [],
   "source": [
    "X_train = scaler.fit_transform(X_train)\n",
    "X_test = scaler.transform(X_test)"
   ]
  },
  {
   "cell_type": "code",
   "execution_count": 354,
   "metadata": {},
   "outputs": [],
   "source": [
    "from tensorflow.keras.models import Sequential\n",
    "from tensorflow.keras.layers import Dense"
   ]
  },
  {
   "cell_type": "code",
   "execution_count": 355,
   "metadata": {},
   "outputs": [
    {
     "data": {
      "text/plain": [
       "(22053, 37)"
      ]
     },
     "execution_count": 355,
     "metadata": {},
     "output_type": "execute_result"
    }
   ],
   "source": [
    "X_train.shape"
   ]
  },
  {
   "cell_type": "code",
   "execution_count": 356,
   "metadata": {},
   "outputs": [],
   "source": [
    "model = Sequential()\n",
    "\n",
    "model.add(Dense(19,activation='relu'))\n",
    "model.add(Dense(19,activation='relu'))\n",
    "model.add(Dense(19,activation='relu'))\n",
    "model.add(Dense(19,activation='relu'))\n",
    "\n",
    "model.add(Dense(1))\n",
    "\n",
    "model.compile(optimizer='adam',loss='mse')"
   ]
  },
  {
   "cell_type": "code",
   "execution_count": 357,
   "metadata": {},
   "outputs": [
    {
     "name": "stdout",
     "output_type": "stream",
     "text": [
      "Train on 22053 samples, validate on 9452 samples\n",
      "Epoch 1/400\n",
      "22053/22053 [==============================] - 3s 114us/sample - loss: 160520784457.7133 - val_loss: 162658200461.1629\n",
      "Epoch 2/400\n",
      "22053/22053 [==============================] - 1s 56us/sample - loss: 148837099750.9607 - val_loss: 123281572803.7647\n",
      "Epoch 3/400\n",
      "22053/22053 [==============================] - 1s 54us/sample - loss: 65867131226.2089 - val_loss: 29249868724.1642\n",
      "Epoch 4/400\n",
      "22053/22053 [==============================] - 1s 53us/sample - loss: 24590844398.8428 - val_loss: 23735087064.1320\n",
      "Epoch 5/400\n",
      "22053/22053 [==============================] - 1s 52us/sample - loss: 21662974355.5079 - val_loss: 21868745229.2171\n",
      "Epoch 6/400\n",
      "22053/22053 [==============================] - 1s 51us/sample - loss: 20314280018.0946 - val_loss: 20865317807.8307\n",
      "Epoch 7/400\n",
      "22053/22053 [==============================] - 1s 50us/sample - loss: 19505645598.4140 - val_loss: 20195086148.7939\n",
      "Epoch 8/400\n",
      "22053/22053 [==============================] - 1s 52us/sample - loss: 18903017602.5248 - val_loss: 19638399121.6047\n",
      "Epoch 9/400\n",
      "22053/22053 [==============================] - 1s 54us/sample - loss: 18396572215.8828 - val_loss: 19161357850.6509\n",
      "Epoch 10/400\n",
      "22053/22053 [==============================] - 1s 51us/sample - loss: 17954554625.8225 - val_loss: 18749998876.0592\n",
      "Epoch 11/400\n",
      "22053/22053 [==============================] - 1s 53us/sample - loss: 17550683577.6299 - val_loss: 18367410683.8832\n",
      "Epoch 12/400\n",
      "22053/22053 [==============================] - 1s 51us/sample - loss: 17185513724.6452 - val_loss: 18049942044.8176\n",
      "Epoch 13/400\n",
      "22053/22053 [==============================] - 1s 51us/sample - loss: 16857856628.8037 - val_loss: 17754610093.8807\n",
      "Epoch 14/400\n",
      "22053/22053 [==============================] - 1s 49us/sample - loss: 16563102458.7182 - val_loss: 17463106043.0165\n",
      "Epoch 15/400\n",
      "22053/22053 [==============================] - 1s 53us/sample - loss: 16306372627.3628 - val_loss: 17227024147.3923\n",
      "Epoch 16/400\n",
      "22053/22053 [==============================] - 1s 53us/sample - loss: 16072517394.4922 - val_loss: 17028676062.4156\n",
      "Epoch 17/400\n",
      "22053/22053 [==============================] - 1s 53us/sample - loss: 15884658000.5507 - val_loss: 16875982030.7067\n",
      "Epoch 18/400\n",
      "22053/22053 [==============================] - 1s 55us/sample - loss: 15717968408.2151 - val_loss: 16726334064.8870\n",
      "Epoch 19/400\n",
      "22053/22053 [==============================] - 1s 50us/sample - loss: 15578763462.9215 - val_loss: 16618506328.4029\n",
      "Epoch 20/400\n",
      "22053/22053 [==============================] - 1s 54us/sample - loss: 15469323382.2664 - val_loss: 16581693614.2057\n",
      "Epoch 21/400\n",
      "22053/22053 [==============================] - 1s 53us/sample - loss: 15380498452.7094 - val_loss: 16461519030.0059\n",
      "Epoch 22/400\n",
      "22053/22053 [==============================] - 1s 54us/sample - loss: 15317631895.3851 - val_loss: 16443835681.9094\n",
      "Epoch 23/400\n",
      "22053/22053 [==============================] - 1s 52us/sample - loss: 15254969916.9441 - val_loss: 16429136404.1507\n",
      "Epoch 24/400\n",
      "22053/22053 [==============================] - 1s 56us/sample - loss: 15210218566.7184 - val_loss: 16362407292.0457\n",
      "Epoch 25/400\n",
      "22053/22053 [==============================] - 1s 55us/sample - loss: 15174706146.4218 - val_loss: 16319525065.9399\n",
      "Epoch 26/400\n",
      "22053/22053 [==============================] - 1s 54us/sample - loss: 15140509653.7454 - val_loss: 16302260379.1384\n",
      "Epoch 27/400\n",
      "22053/22053 [==============================] - 1s 54us/sample - loss: 15105676999.0840 - val_loss: 16275158089.2357\n",
      "Epoch 28/400\n",
      "22053/22053 [==============================] - 1s 51us/sample - loss: 15080698122.1341 - val_loss: 16280967986.1600\n",
      "Epoch 29/400\n",
      "22053/22053 [==============================] - 1s 51us/sample - loss: 15050594503.1537 - val_loss: 16285161106.2548\n",
      "Epoch 30/400\n",
      "22053/22053 [==============================] - 1s 52us/sample - loss: 15035974985.6321 - val_loss: 16264819208.0169\n",
      "Epoch 31/400\n",
      "22053/22053 [==============================] - 1s 51us/sample - loss: 15022979353.5733 - val_loss: 16236519916.2827\n",
      "Epoch 32/400\n",
      "22053/22053 [==============================] - 1s 50us/sample - loss: 14998844421.1541 - val_loss: 16233892141.6098\n",
      "Epoch 33/400\n",
      "22053/22053 [==============================] - 1s 50us/sample - loss: 14978341812.6847 - val_loss: 16216224844.7025\n",
      "Epoch 34/400\n",
      "22053/22053 [==============================] - 1s 52us/sample - loss: 14955774364.5160 - val_loss: 16194949679.0182\n",
      "Epoch 35/400\n",
      "22053/22053 [==============================] - 1s 50us/sample - loss: 14941349069.0972 - val_loss: 16190191172.2522\n",
      "Epoch 36/400\n",
      "22053/22053 [==============================] - 1s 51us/sample - loss: 14921114437.4763 - val_loss: 16179732851.8121\n",
      "Epoch 37/400\n",
      "22053/22053 [==============================] - 1s 50us/sample - loss: 14901485315.4245 - val_loss: 16144203057.5099\n",
      "Epoch 38/400\n",
      "22053/22053 [==============================] - 1s 51us/sample - loss: 14876274091.0033 - val_loss: 16130549935.0724\n",
      "Epoch 39/400\n",
      "22053/22053 [==============================] - 1s 53us/sample - loss: 14855682174.0904 - val_loss: 16112392561.2120\n",
      "Epoch 40/400\n",
      "22053/22053 [==============================] - 1s 53us/sample - loss: 14840693388.6009 - val_loss: 16109766497.3948\n",
      "Epoch 41/400\n",
      "22053/22053 [==============================] - 1s 52us/sample - loss: 14811276550.1176 - val_loss: 16095397538.7220\n",
      "Epoch 42/400\n",
      "22053/22053 [==============================] - 1s 54us/sample - loss: 14794781267.9751 - val_loss: 16107010394.6780\n",
      "Epoch 43/400\n",
      "22053/22053 [==============================] - 1s 51us/sample - loss: 14770177545.7278 - val_loss: 16041273700.2116\n",
      "Epoch 44/400\n",
      "22053/22053 [==============================] - 1s 54us/sample - loss: 14750480094.3473 - val_loss: 16041891308.7160\n",
      "Epoch 45/400\n",
      "22053/22053 [==============================] - 1s 51us/sample - loss: 14727838595.6044 - val_loss: 16033492322.0449\n",
      "Epoch 46/400\n",
      "22053/22053 [==============================] - 1s 48us/sample - loss: 14701406957.4382 - val_loss: 15995842802.6746\n",
      "Epoch 47/400\n",
      "22053/22053 [==============================] - 1s 48us/sample - loss: 14677504987.6425 - val_loss: 15963446054.8929\n",
      "Epoch 48/400\n",
      "22053/22053 [==============================] - 1s 47us/sample - loss: 14655325062.1815 - val_loss: 15951755939.1553\n",
      "Epoch 49/400\n",
      "22053/22053 [==============================] - 1s 47us/sample - loss: 14630132282.5760 - val_loss: 15961609542.3106\n",
      "Epoch 50/400\n",
      "22053/22053 [==============================] - 1s 47us/sample - loss: 14618479978.6928 - val_loss: 15919961910.0601\n",
      "Epoch 51/400\n",
      "22053/22053 [==============================] - 1s 49us/sample - loss: 14594447767.1762 - val_loss: 15920386733.5556\n",
      "Epoch 52/400\n",
      "22053/22053 [==============================] - 1s 48us/sample - loss: 14577466175.0684 - val_loss: 15908208653.0004\n",
      "Epoch 53/400\n",
      "22053/22053 [==============================] - 1s 47us/sample - loss: 14562544233.4043 - val_loss: 15900571152.2505\n",
      "Epoch 54/400\n",
      "22053/22053 [==============================] - 1s 47us/sample - loss: 14547679678.3661 - val_loss: 15866822935.9424\n",
      "Epoch 55/400\n",
      "22053/22053 [==============================] - 1s 49us/sample - loss: 14529301886.6592 - val_loss: 15882435861.7757\n",
      "Epoch 56/400\n",
      "22053/22053 [==============================] - 1s 45us/sample - loss: 14514605555.1611 - val_loss: 15854101101.4202\n",
      "Epoch 57/400\n",
      "22053/22053 [==============================] - 1s 50us/sample - loss: 14500049888.1930 - val_loss: 15827049217.6251\n",
      "Epoch 58/400\n",
      "22053/22053 [==============================] - 1s 52us/sample - loss: 14492447102.1717 - val_loss: 15855803381.1663\n",
      "Epoch 59/400\n",
      "22053/22053 [==============================] - 1s 50us/sample - loss: 14478980731.0722 - val_loss: 15824700325.4304\n",
      "Epoch 60/400\n",
      "22053/22053 [==============================] - 1s 52us/sample - loss: 14455836052.2973 - val_loss: 15833874473.6014\n",
      "Epoch 61/400\n",
      "22053/22053 [==============================] - 1s 48us/sample - loss: 14450594935.4736 - val_loss: 15801486607.7088\n",
      "Epoch 62/400\n",
      "22053/22053 [==============================] - 1s 50us/sample - loss: 14428591874.6815 - val_loss: 15795782481.3610\n",
      "Epoch 63/400\n",
      "22053/22053 [==============================] - 1s 50us/sample - loss: 14428515608.0874 - val_loss: 15810343513.4862\n",
      "Epoch 64/400\n",
      "22053/22053 [==============================] - 1s 51us/sample - loss: 14408894512.5695 - val_loss: 15765943829.4507\n",
      "Epoch 65/400\n",
      "22053/22053 [==============================] - 1s 52us/sample - loss: 14405354898.4399 - val_loss: 15768281858.4917\n",
      "Epoch 66/400\n",
      "22053/22053 [==============================] - 1s 52us/sample - loss: 14392996554.0558 - val_loss: 15763432061.8874\n",
      "Epoch 67/400\n",
      "22053/22053 [==============================] - 1s 53us/sample - loss: 14384911194.7893 - val_loss: 15743389814.7372\n",
      "Epoch 68/400\n",
      "22053/22053 [==============================] - 1s 53us/sample - loss: 14373447451.9182 - val_loss: 15732115881.5472\n",
      "Epoch 69/400\n",
      "22053/22053 [==============================] - 1s 52us/sample - loss: 14360656047.7976 - val_loss: 15739195006.3208\n",
      "Epoch 70/400\n",
      "22053/22053 [==============================] - 1s 53us/sample - loss: 14355925794.2564 - val_loss: 15726827770.4748\n",
      "Epoch 71/400\n",
      "22053/22053 [==============================] - 1s 53us/sample - loss: 14345817231.4334 - val_loss: 15714837003.4837\n",
      "Epoch 72/400\n",
      "22053/22053 [==============================] - 1s 50us/sample - loss: 14344686304.3903 - val_loss: 15721849939.6361\n",
      "Epoch 73/400\n",
      "22053/22053 [==============================] - 1s 53us/sample - loss: 14330852159.0220 - val_loss: 15720307661.2983\n",
      "Epoch 74/400\n",
      "22053/22053 [==============================] - 1s 53us/sample - loss: 14327807325.4592 - val_loss: 15741444919.3601\n",
      "Epoch 75/400\n",
      "22053/22053 [==============================] - 1s 50us/sample - loss: 14321967014.5689 - val_loss: 15702085893.7419\n",
      "Epoch 76/400\n",
      "22053/22053 [==============================] - 1s 50us/sample - loss: 14325150108.8411 - val_loss: 15719331560.0576\n",
      "Epoch 77/400\n",
      "22053/22053 [==============================] - 1s 51us/sample - loss: 14317906496.3337 - val_loss: 15696288123.6124\n",
      "Epoch 78/400\n",
      "22053/22053 [==============================] - 1s 49us/sample - loss: 14305589573.5459 - val_loss: 15802077414.5408\n",
      "Epoch 79/400\n",
      "22053/22053 [==============================] - 1s 52us/sample - loss: 14303134042.9054 - val_loss: 15706120120.0643\n",
      "Epoch 80/400\n",
      "22053/22053 [==============================] - 1s 51us/sample - loss: 14300979450.3699 - val_loss: 15696340322.0449\n",
      "Epoch 81/400\n",
      "22053/22053 [==============================] - 1s 54us/sample - loss: 14288839647.1250 - val_loss: 15691676555.4295\n",
      "Epoch 82/400\n",
      "22053/22053 [==============================] - 1s 49us/sample - loss: 14289699627.5663 - val_loss: 15755433708.3910\n",
      "Epoch 83/400\n",
      "22053/22053 [==============================] - 1s 50us/sample - loss: 14286991389.1603 - val_loss: 15679429685.3017\n",
      "Epoch 84/400\n",
      "22053/22053 [==============================] - 1s 49us/sample - loss: 14286374353.7754 - val_loss: 15699348254.2260\n",
      "Epoch 85/400\n",
      "22053/22053 [==============================] - 1s 51us/sample - loss: 14275248643.7843 - val_loss: 15673841320.7888\n",
      "Epoch 86/400\n",
      "22053/22053 [==============================] - 1s 53us/sample - loss: 14271130696.6221 - val_loss: 15673583221.6538\n",
      "Epoch 87/400\n",
      "22053/22053 [==============================] - 1s 51us/sample - loss: 14268336842.6594 - val_loss: 15680798320.4537\n",
      "Epoch 88/400\n",
      "22053/22053 [==============================] - 1s 52us/sample - loss: 14263116461.8706 - val_loss: 15686687240.8836\n",
      "Epoch 89/400\n",
      "22053/22053 [==============================] - 1s 51us/sample - loss: 14259611660.1656 - val_loss: 15671127511.9154\n",
      "Epoch 90/400\n",
      "22053/22053 [==============================] - 1s 50us/sample - loss: 14263182423.1094 - val_loss: 15658392209.8214\n",
      "Epoch 91/400\n",
      "22053/22053 [==============================] - 1s 53us/sample - loss: 14261080214.4216 - val_loss: 15658369729.4896\n",
      "Epoch 92/400\n",
      "22053/22053 [==============================] - 1s 51us/sample - loss: 14253317037.9983 - val_loss: 15705978343.5159\n",
      "Epoch 93/400\n",
      "22053/22053 [==============================] - 1s 51us/sample - loss: 14249083637.4247 - val_loss: 15665088806.6763\n",
      "Epoch 94/400\n",
      "22053/22053 [==============================] - 1s 52us/sample - loss: 14249836653.0725 - val_loss: 15655610400.9344\n",
      "Epoch 95/400\n",
      "22053/22053 [==============================] - 1s 55us/sample - loss: 14240664232.8558 - val_loss: 15656900712.8701\n",
      "Epoch 96/400\n",
      "22053/22053 [==============================] - 1s 53us/sample - loss: 14244729244.9804 - val_loss: 15683303816.6128\n",
      "Epoch 97/400\n",
      "22053/22053 [==============================] - 1s 52us/sample - loss: 14238329097.0429 - val_loss: 15718374754.0449\n",
      "Epoch 98/400\n",
      "22053/22053 [==============================] - 1s 55us/sample - loss: 14248636969.8599 - val_loss: 15678003040.5281\n",
      "Epoch 99/400\n",
      "22053/22053 [==============================] - 1s 51us/sample - loss: 14238304140.4732 - val_loss: 15658214533.9044\n",
      "Epoch 100/400\n",
      "22053/22053 [==============================] - 1s 52us/sample - loss: 14237391147.0323 - val_loss: 15710162755.0605\n",
      "Epoch 101/400\n",
      "22053/22053 [==============================] - 1s 52us/sample - loss: 14236456033.2784 - val_loss: 15651153321.1138\n",
      "Epoch 102/400\n",
      "22053/22053 [==============================] - 1s 54us/sample - loss: 14230937545.0226 - val_loss: 15674283277.9755\n",
      "Epoch 103/400\n",
      "22053/22053 [==============================] - 1s 48us/sample - loss: 14232019519.7069 - val_loss: 15646160076.1066\n",
      "Epoch 104/400\n",
      "22053/22053 [==============================] - 1s 50us/sample - loss: 14223729489.1311 - val_loss: 15713934683.9780\n",
      "Epoch 105/400\n",
      "22053/22053 [==============================] - 1s 50us/sample - loss: 14232423963.0940 - val_loss: 15647590952.0846\n",
      "Epoch 106/400\n",
      "22053/22053 [==============================] - 1s 49us/sample - loss: 14226775227.2667 - val_loss: 15645953382.3783\n",
      "Epoch 107/400\n",
      "22053/22053 [==============================] - 1s 51us/sample - loss: 14220832465.6245 - val_loss: 15657036465.0224\n",
      "Epoch 108/400\n",
      "22053/22053 [==============================] - 1s 52us/sample - loss: 14214857260.4602 - val_loss: 15660050484.8684\n",
      "Epoch 109/400\n",
      "22053/22053 [==============================] - 1s 54us/sample - loss: 14216012524.1148 - val_loss: 15641639061.0715\n",
      "Epoch 110/400\n",
      "22053/22053 [==============================] - 1s 53us/sample - loss: 14217852743.1014 - val_loss: 15678474986.2243\n",
      "Epoch 111/400\n",
      "22053/22053 [==============================] - 1s 50us/sample - loss: 14218490257.5113 - val_loss: 15644613002.3462\n",
      "Epoch 112/400\n",
      "22053/22053 [==============================] - 1s 52us/sample - loss: 14212273219.9788 - val_loss: 15640578597.4846\n",
      "Epoch 113/400\n",
      "22053/22053 [==============================] - 1s 51us/sample - loss: 14209313621.1244 - val_loss: 15647820010.8743\n",
      "Epoch 114/400\n",
      "22053/22053 [==============================] - 1s 50us/sample - loss: 14205588720.5724 - val_loss: 15640513626.5696\n",
      "Epoch 115/400\n",
      "22053/22053 [==============================] - 1s 49us/sample - loss: 14206138535.5788 - val_loss: 15634575315.7986\n",
      "Epoch 116/400\n",
      "22053/22053 [==============================] - 1s 55us/sample - loss: 14206851155.5805 - val_loss: 15684507543.9966\n",
      "Epoch 117/400\n",
      "22053/22053 [==============================] - 1s 48us/sample - loss: 14205881957.7592 - val_loss: 15690553232.1964\n",
      "Epoch 118/400\n",
      "22053/22053 [==============================] - 1s 49us/sample - loss: 14207343952.8293 - val_loss: 15634078965.7080\n",
      "Epoch 119/400\n",
      "22053/22053 [==============================] - 1s 50us/sample - loss: 14199280931.8816 - val_loss: 15635921426.4173\n",
      "Epoch 120/400\n",
      "22053/22053 [==============================] - 1s 49us/sample - loss: 14201116829.1777 - val_loss: 15641636482.6543\n",
      "Epoch 121/400\n",
      "22053/22053 [==============================] - 1s 52us/sample - loss: 14200381797.3761 - val_loss: 15672138423.0893\n",
      "Epoch 122/400\n",
      "22053/22053 [==============================] - 1s 51us/sample - loss: 14201456813.3830 - val_loss: 15724386850.8845\n",
      "Epoch 123/400\n",
      "22053/22053 [==============================] - 1s 51us/sample - loss: 14206346009.1786 - val_loss: 15637425515.5785\n",
      "Epoch 124/400\n",
      "22053/22053 [==============================] - 1s 53us/sample - loss: 14197232479.2005 - val_loss: 15636094618.9217\n",
      "Epoch 125/400\n",
      "22053/22053 [==============================] - 1s 51us/sample - loss: 14195447162.0159 - val_loss: 15631436283.0165\n",
      "Epoch 126/400\n",
      "22053/22053 [==============================] - 1s 51us/sample - loss: 14193009964.3325 - val_loss: 15638066444.2421\n",
      "Epoch 127/400\n"
     ]
    },
    {
     "name": "stdout",
     "output_type": "stream",
     "text": [
      "22053/22053 [==============================] - 1s 52us/sample - loss: 14196400867.4549 - val_loss: 15635926679.4549\n",
      "Epoch 128/400\n",
      "22053/22053 [==============================] - 1s 53us/sample - loss: 14199039929.0030 - val_loss: 15630743384.7279\n",
      "Epoch 129/400\n",
      "22053/22053 [==============================] - 1s 52us/sample - loss: 14191037076.2857 - val_loss: 15630720341.9111\n",
      "Epoch 130/400\n",
      "22053/22053 [==============================] - 1s 54us/sample - loss: 14185010112.2931 - val_loss: 15630785759.1739\n",
      "Epoch 131/400\n",
      "22053/22053 [==============================] - 1s 50us/sample - loss: 14188206251.1542 - val_loss: 15663639833.2425\n",
      "Epoch 132/400\n",
      "22053/22053 [==============================] - 1s 52us/sample - loss: 14188967689.6930 - val_loss: 15626570448.2234\n",
      "Epoch 133/400\n",
      "22053/22053 [==============================] - 1s 50us/sample - loss: 14186463840.9766 - val_loss: 15623363994.3800\n",
      "Epoch 134/400\n",
      "22053/22053 [==============================] - 1s 51us/sample - loss: 14185363556.2501 - val_loss: 15643249582.9640\n",
      "Epoch 135/400\n",
      "22053/22053 [==============================] - 1s 54us/sample - loss: 14182940946.4922 - val_loss: 15624139361.2865\n",
      "Epoch 136/400\n",
      "22053/22053 [==============================] - 1s 52us/sample - loss: 14188901897.1242 - val_loss: 15631043242.0889\n",
      "Epoch 137/400\n",
      "22053/22053 [==============================] - 1s 53us/sample - loss: 14190924901.8057 - val_loss: 15694676913.5641\n",
      "Epoch 138/400\n",
      "22053/22053 [==============================] - 1s 49us/sample - loss: 14185974670.5627 - val_loss: 15638511854.3411\n",
      "Epoch 139/400\n",
      "22053/22053 [==============================] - 1s 52us/sample - loss: 14179982445.3047 - val_loss: 15630372135.1096\n",
      "Epoch 140/400\n",
      "22053/22053 [==============================] - 1s 52us/sample - loss: 14187910118.2294 - val_loss: 15670354909.7656\n",
      "Epoch 141/400\n",
      "22053/22053 [==============================] - 1s 52us/sample - loss: 14182332290.1185 - val_loss: 15661784791.5904\n",
      "Epoch 142/400\n",
      "22053/22053 [==============================] - 1s 52us/sample - loss: 14177635766.3795 - val_loss: 15626553619.6090\n",
      "Epoch 143/400\n",
      "22053/22053 [==============================] - 1s 52us/sample - loss: 14178779628.0103 - val_loss: 15632007759.9526\n",
      "Epoch 144/400\n",
      "22053/22053 [==============================] - 1s 53us/sample - loss: 14170700278.2722 - val_loss: 15699936860.5197\n",
      "Epoch 145/400\n",
      "22053/22053 [==============================] - 1s 51us/sample - loss: 14180517487.6496 - val_loss: 15629901054.3749\n",
      "Epoch 146/400\n",
      "22053/22053 [==============================] - 1s 50us/sample - loss: 14176262193.8000 - val_loss: 15617157709.3525\n",
      "Epoch 147/400\n",
      "22053/22053 [==============================] - 1s 50us/sample - loss: 14172116064.7676 - val_loss: 15670619275.1045\n",
      "Epoch 148/400\n",
      "22053/22053 [==============================] - 1s 50us/sample - loss: 14181774578.1280 - val_loss: 15618756657.4016\n",
      "Epoch 149/400\n",
      "22053/22053 [==============================] - 1s 53us/sample - loss: 14175976570.7704 - val_loss: 15636275968.7584\n",
      "Epoch 150/400\n",
      "22053/22053 [==============================] - 1s 51us/sample - loss: 14176081657.0930 - val_loss: 15674463847.7867\n",
      "Epoch 151/400\n",
      "22053/22053 [==============================] - 1s 50us/sample - loss: 14170051825.9887 - val_loss: 15621633019.2332\n",
      "Epoch 152/400\n",
      "22053/22053 [==============================] - 1s 53us/sample - loss: 14169297124.0818 - val_loss: 15625946337.7740\n",
      "Epoch 153/400\n",
      "22053/22053 [==============================] - 1s 50us/sample - loss: 14169816377.2874 - val_loss: 15640932532.2725\n",
      "Epoch 154/400\n",
      "22053/22053 [==============================] - 1s 48us/sample - loss: 14167820431.5727 - val_loss: 15633011425.5573\n",
      "Epoch 155/400\n",
      "22053/22053 [==============================] - 1s 51us/sample - loss: 14163075564.2889 - val_loss: 15633419073.7605\n",
      "Epoch 156/400\n",
      "22053/22053 [==============================] - 1s 51us/sample - loss: 14159732175.6858 - val_loss: 15617524162.6813\n",
      "Epoch 157/400\n",
      "22053/22053 [==============================] - 1s 51us/sample - loss: 14172468805.9058 - val_loss: 15617671843.1553\n",
      "Epoch 158/400\n",
      "22053/22053 [==============================] - 1s 52us/sample - loss: 14170673114.4352 - val_loss: 15619156305.1443\n",
      "Epoch 159/400\n",
      "22053/22053 [==============================] - 1s 53us/sample - loss: 14163786251.5620 - val_loss: 15642604408.3623\n",
      "Epoch 160/400\n",
      "22053/22053 [==============================] - 1s 51us/sample - loss: 14164107831.1399 - val_loss: 15617643026.4173\n",
      "Epoch 161/400\n",
      "22053/22053 [==============================] - 1s 52us/sample - loss: 14162070625.0230 - val_loss: 15642212551.3398\n",
      "Epoch 162/400\n",
      "22053/22053 [==============================] - 1s 49us/sample - loss: 14159979603.9519 - val_loss: 15677674686.2395\n",
      "Epoch 163/400\n",
      "22053/22053 [==============================] - 1s 52us/sample - loss: 14156868137.6277 - val_loss: 15648771320.3081\n",
      "Epoch 164/400\n",
      "22053/22053 [==============================] - 1s 50us/sample - loss: 14160675150.4612 - val_loss: 15659007817.1274\n",
      "Epoch 165/400\n",
      "22053/22053 [==============================] - 1s 51us/sample - loss: 14163980994.8121 - val_loss: 15623840138.3462\n",
      "Epoch 166/400\n",
      "22053/22053 [==============================] - 1s 51us/sample - loss: 14161666364.6771 - val_loss: 15628874951.7732\n",
      "Epoch 167/400\n",
      "22053/22053 [==============================] - 1s 52us/sample - loss: 14163302651.7629 - val_loss: 15691928457.6961\n",
      "Epoch 168/400\n",
      "22053/22053 [==============================] - 1s 51us/sample - loss: 14158172356.1587 - val_loss: 15615304430.5578\n",
      "Epoch 169/400\n",
      "22053/22053 [==============================] - 1s 52us/sample - loss: 14169849234.1613 - val_loss: 15629243089.9568\n",
      "Epoch 170/400\n",
      "22053/22053 [==============================] - 1s 51us/sample - loss: 14159934901.7295 - val_loss: 15617162422.4393\n",
      "Epoch 171/400\n",
      "22053/22053 [==============================] - 1s 50us/sample - loss: 14155104683.2819 - val_loss: 15610655892.6382\n",
      "Epoch 172/400\n",
      "22053/22053 [==============================] - 1s 51us/sample - loss: 14160976718.6933 - val_loss: 15619319113.7774\n",
      "Epoch 173/400\n",
      "22053/22053 [==============================] - 1s 51us/sample - loss: 14154462668.5748 - val_loss: 15628427718.1481\n",
      "Epoch 174/400\n",
      "22053/22053 [==============================] - 1s 51us/sample - loss: 14154454083.7466 - val_loss: 15611496705.4084\n",
      "Epoch 175/400\n",
      "22053/22053 [==============================] - 1s 52us/sample - loss: 14156705812.3379 - val_loss: 15616077948.8041\n",
      "Epoch 176/400\n",
      "22053/22053 [==============================] - 1s 48us/sample - loss: 14151768963.8830 - val_loss: 15606329734.8794\n",
      "Epoch 177/400\n",
      "22053/22053 [==============================] - 1s 51us/sample - loss: 14154875754.3910 - val_loss: 15613157087.3906\n",
      "Epoch 178/400\n",
      "22053/22053 [==============================] - 1s 52us/sample - loss: 14154194391.8582 - val_loss: 15630828859.9103\n",
      "Epoch 179/400\n",
      "22053/22053 [==============================] - 1s 52us/sample - loss: 14146038231.8582 - val_loss: 15635528063.0791\n",
      "Epoch 180/400\n",
      "22053/22053 [==============================] - 1s 51us/sample - loss: 14154154942.8072 - val_loss: 15682840882.8100\n",
      "Epoch 181/400\n",
      "22053/22053 [==============================] - 1s 50us/sample - loss: 14160338676.8675 - val_loss: 15612049105.5235\n",
      "Epoch 182/400\n",
      "22053/22053 [==============================] - 1s 52us/sample - loss: 14153654560.5383 - val_loss: 15649543600.0474\n",
      "Epoch 183/400\n",
      "22053/22053 [==============================] - 1s 52us/sample - loss: 14153353409.5352 - val_loss: 15694286335.7833\n",
      "Epoch 184/400\n",
      "22053/22053 [==============================] - 1s 49us/sample - loss: 14147136145.1282 - val_loss: 15671312987.2196\n",
      "Epoch 185/400\n",
      "22053/22053 [==============================] - 1s 52us/sample - loss: 14152055961.3585 - val_loss: 15608207327.9323\n",
      "Epoch 186/400\n",
      "22053/22053 [==============================] - 1s 54us/sample - loss: 14159000325.7694 - val_loss: 15610699210.9149\n",
      "Epoch 187/400\n",
      "22053/22053 [==============================] - 1s 51us/sample - loss: 14148221613.2669 - val_loss: 15618156621.1358\n",
      "Epoch 188/400\n",
      "22053/22053 [==============================] - 1s 51us/sample - loss: 14147236053.4088 - val_loss: 15619069407.7156\n",
      "Epoch 189/400\n",
      "22053/22053 [==============================] - 1s 50us/sample - loss: 14139979975.7573 - val_loss: 15609527774.8489\n",
      "Epoch 190/400\n",
      "22053/22053 [==============================] - 1s 50us/sample - loss: 14142858342.8040 - val_loss: 15624042409.3305\n",
      "Epoch 191/400\n",
      "22053/22053 [==============================] - 1s 52us/sample - loss: 14142123578.2509 - val_loss: 15615894348.1608\n",
      "Epoch 192/400\n",
      "22053/22053 [==============================] - 1s 55us/sample - loss: 14154248741.4719 - val_loss: 15625417809.0360\n",
      "Epoch 193/400\n",
      "22053/22053 [==============================] - 1s 54us/sample - loss: 14147080167.2277 - val_loss: 15633975953.8214\n",
      "Epoch 194/400\n",
      "22053/22053 [==============================] - 1s 51us/sample - loss: 14141773872.3838 - val_loss: 15620117171.6225\n",
      "Epoch 195/400\n",
      "22053/22053 [==============================] - 1s 52us/sample - loss: 14142696208.7741 - val_loss: 15627366762.2785\n",
      "Epoch 196/400\n",
      "22053/22053 [==============================] - 1s 51us/sample - loss: 14144307864.4647 - val_loss: 15606442950.3648\n",
      "Epoch 197/400\n",
      "22053/22053 [==============================] - 1s 51us/sample - loss: 14141620664.9334 - val_loss: 15608138291.3517\n",
      "Epoch 198/400\n",
      "22053/22053 [==============================] - 1s 52us/sample - loss: 14138673817.9506 - val_loss: 15604301166.1786\n",
      "Epoch 199/400\n",
      "22053/22053 [==============================] - 1s 54us/sample - loss: 14143824018.2658 - val_loss: 15611453794.4782\n",
      "Epoch 200/400\n",
      "22053/22053 [==============================] - 1s 52us/sample - loss: 14136755100.2142 - val_loss: 15605505883.3280\n",
      "Epoch 201/400\n",
      "22053/22053 [==============================] - 1s 51us/sample - loss: 14137978000.8264 - val_loss: 15615854385.7266\n",
      "Epoch 202/400\n",
      "22053/22053 [==============================] - 1s 50us/sample - loss: 14139102676.7703 - val_loss: 15606071785.6826\n",
      "Epoch 203/400\n",
      "22053/22053 [==============================] - 1s 51us/sample - loss: 14142164928.6181 - val_loss: 15602534636.6077\n",
      "Epoch 204/400\n",
      "22053/22053 [==============================] - 1s 51us/sample - loss: 14140725369.6096 - val_loss: 15615877809.8891\n",
      "Epoch 205/400\n",
      "22053/22053 [==============================] - 1s 52us/sample - loss: 14136041872.7915 - val_loss: 15604725788.6009\n",
      "Epoch 206/400\n",
      "22053/22053 [==============================] - 1s 54us/sample - loss: 14150717301.1636 - val_loss: 15618036115.8798\n",
      "Epoch 207/400\n",
      "22053/22053 [==============================] - 1s 51us/sample - loss: 14134404326.6356 - val_loss: 15612049654.1413\n",
      "Epoch 208/400\n",
      "22053/22053 [==============================] - 1s 53us/sample - loss: 14137574363.2246 - val_loss: 15614214110.1989\n",
      "Epoch 209/400\n",
      "22053/22053 [==============================] - 1s 51us/sample - loss: 14139484693.8006 - val_loss: 15603225696.6365\n",
      "Epoch 210/400\n",
      "22053/22053 [==============================] - 1s 51us/sample - loss: 14139746317.6979 - val_loss: 15605371510.0872\n",
      "Epoch 211/400\n",
      "22053/22053 [==============================] - 1s 50us/sample - loss: 14139528291.6929 - val_loss: 15609292086.7101\n",
      "Epoch 212/400\n",
      "22053/22053 [==============================] - 1s 51us/sample - loss: 14134781040.9729 - val_loss: 15619404686.8963\n",
      "Epoch 213/400\n",
      "22053/22053 [==============================] - 1s 51us/sample - loss: 14135147727.1403 - val_loss: 15602363945.3847\n",
      "Epoch 214/400\n",
      "22053/22053 [==============================] - 1s 52us/sample - loss: 14131290347.1861 - val_loss: 15603324893.3322\n",
      "Epoch 215/400\n",
      "22053/22053 [==============================] - 1s 52us/sample - loss: 14134101265.4474 - val_loss: 15629295921.0766\n",
      "Epoch 216/400\n",
      "22053/22053 [==============================] - 1s 51us/sample - loss: 14146893995.9204 - val_loss: 15608744337.2797\n",
      "Epoch 217/400\n",
      "22053/22053 [==============================] - 1s 51us/sample - loss: 14136267115.4357 - val_loss: 15605925549.1223\n",
      "Epoch 218/400\n",
      "22053/22053 [==============================] - 1s 51us/sample - loss: 14136811672.3950 - val_loss: 15602405876.9496\n",
      "Epoch 219/400\n",
      "22053/22053 [==============================] - 1s 53us/sample - loss: 14133283838.0498 - val_loss: 15629773944.0372\n",
      "Epoch 220/400\n",
      "22053/22053 [==============================] - 1s 48us/sample - loss: 14132514805.4131 - val_loss: 15603349135.6547\n",
      "Epoch 221/400\n",
      "22053/22053 [==============================] - 1s 51us/sample - loss: 14137459683.5362 - val_loss: 15605315551.9323\n",
      "Epoch 222/400\n",
      "22053/22053 [==============================] - 1s 55us/sample - loss: 14130006075.8529 - val_loss: 15642143904.7719\n",
      "Epoch 223/400\n",
      "22053/22053 [==============================] - 1s 51us/sample - loss: 14142546052.2429 - val_loss: 15596856778.0482\n",
      "Epoch 224/400\n",
      "22053/22053 [==============================] - 1s 51us/sample - loss: 14127172164.2806 - val_loss: 15608919114.9691\n",
      "Epoch 225/400\n",
      "22053/22053 [==============================] - 1s 51us/sample - loss: 14128877203.4034 - val_loss: 15624784233.4118\n",
      "Epoch 226/400\n",
      "22053/22053 [==============================] - 1s 53us/sample - loss: 14129135852.1380 - val_loss: 15623288063.2416\n",
      "Epoch 227/400\n",
      "22053/22053 [==============================] - 1s 54us/sample - loss: 14127140611.8656 - val_loss: 15625185852.0186\n",
      "Epoch 228/400\n",
      "22053/22053 [==============================] - 1s 53us/sample - loss: 14126652391.2973 - val_loss: 15656482248.3149\n",
      "Epoch 229/400\n",
      "22053/22053 [==============================] - 1s 52us/sample - loss: 14129429082.2901 - val_loss: 15600518426.9759\n",
      "Epoch 230/400\n",
      "22053/22053 [==============================] - 1s 50us/sample - loss: 14132443173.8202 - val_loss: 15600081256.5451\n",
      "Epoch 231/400\n",
      "22053/22053 [==============================] - 1s 49us/sample - loss: 14132450972.7598 - val_loss: 15598498025.1409\n",
      "Epoch 232/400\n",
      "22053/22053 [==============================] - 1s 51us/sample - loss: 14136152716.4848 - val_loss: 15678259178.3326\n",
      "Epoch 233/400\n",
      "22053/22053 [==============================] - 1s 50us/sample - loss: 14121833854.9843 - val_loss: 15597084021.1121\n",
      "Epoch 234/400\n",
      "22053/22053 [==============================] - 1s 53us/sample - loss: 14129096224.5499 - val_loss: 15607384726.1549\n",
      "Epoch 235/400\n",
      "22053/22053 [==============================] - 2s 84us/sample - loss: 14118745068.4979 - val_loss: 15612070484.2861\n",
      "Epoch 236/400\n",
      "22053/22053 [==============================] - 2s 84us/sample - loss: 14124754260.3582 - val_loss: 15606925918.6864\n",
      "Epoch 237/400\n",
      "22053/22053 [==============================] - 2s 76us/sample - loss: 14124961936.1995 - val_loss: 15617529499.7884\n",
      "Epoch 238/400\n",
      "22053/22053 [==============================] - 2s 74us/sample - loss: 14120818717.6479 - val_loss: 15598100226.0584\n",
      "Epoch 239/400\n",
      "22053/22053 [==============================] - 2s 73us/sample - loss: 14123287098.5992 - val_loss: 15616963431.0284\n",
      "Epoch 240/400\n",
      "22053/22053 [==============================] - 2s 76us/sample - loss: 14123460400.8133 - val_loss: 15627574664.1794\n",
      "Epoch 241/400\n",
      "22053/22053 [==============================] - 2s 75us/sample - loss: 14123181412.0296 - val_loss: 15680635380.9496\n",
      "Epoch 242/400\n",
      "22053/22053 [==============================] - 61s 3ms/sample - loss: 14130183606.3331 - val_loss: 15616654026.1566\n",
      "Epoch 243/400\n",
      "22053/22053 [==============================] - 1s 46us/sample - loss: 14116555270.8954 - val_loss: 15614102832.6433\n",
      "Epoch 244/400\n",
      "22053/22053 [==============================] - 1s 57us/sample - loss: 14117191734.9309 - val_loss: 15602649271.7393\n",
      "Epoch 245/400\n",
      "22053/22053 [==============================] - 1s 56us/sample - loss: 14131159513.3440 - val_loss: 15602220687.6547\n",
      "Epoch 246/400\n",
      "22053/22053 [==============================] - 1s 58us/sample - loss: 14126710523.7861 - val_loss: 15647348460.3910\n",
      "Epoch 247/400\n",
      "22053/22053 [==============================] - 1s 61us/sample - loss: 14120015328.6341 - val_loss: 15618487949.0546\n",
      "Epoch 248/400\n",
      "22053/22053 [==============================] - 1s 59us/sample - loss: 14117969546.7668 - val_loss: 15598506841.1612\n",
      "Epoch 249/400\n",
      "22053/22053 [==============================] - 1s 56us/sample - loss: 14122940346.7443 - val_loss: 15596479536.9683\n",
      "Epoch 250/400\n",
      "22053/22053 [==============================] - 1s 55us/sample - loss: 14121067450.5353 - val_loss: 15591969739.5650\n",
      "Epoch 251/400\n",
      "22053/22053 [==============================] - 1s 56us/sample - loss: 14119361762.2245 - val_loss: 15603755443.0808\n",
      "Epoch 252/400\n",
      "22053/22053 [==============================] - 1s 54us/sample - loss: 14117348708.3778 - val_loss: 15630604198.7304\n",
      "Epoch 253/400\n"
     ]
    },
    {
     "name": "stdout",
     "output_type": "stream",
     "text": [
      "22053/22053 [==============================] - 1s 52us/sample - loss: 14119097038.3277 - val_loss: 15604687450.3529\n",
      "Epoch 254/400\n",
      "22053/22053 [==============================] - 1s 52us/sample - loss: 14117068223.2484 - val_loss: 15591446834.8100\n",
      "Epoch 255/400\n",
      "22053/22053 [==============================] - 1s 65us/sample - loss: 14115066165.1084 - val_loss: 15589863068.6551\n",
      "Epoch 256/400\n",
      "22053/22053 [==============================] - 1s 53us/sample - loss: 14111249524.7341 - val_loss: 15598286833.2662\n",
      "Epoch 257/400\n",
      "22053/22053 [==============================] - 1s 50us/sample - loss: 14112116288.6820 - val_loss: 15613307738.0279\n",
      "Epoch 258/400\n",
      "22053/22053 [==============================] - 1s 52us/sample - loss: 14116439998.0643 - val_loss: 15652885760.9750\n",
      "Epoch 259/400\n",
      "22053/22053 [==============================] - 1s 61us/sample - loss: 14112054850.4233 - val_loss: 15628835847.3669\n",
      "Epoch 260/400\n",
      "22053/22053 [==============================] - 1s 53us/sample - loss: 14112438792.0794 - val_loss: 15596393559.9695\n",
      "Epoch 261/400\n",
      "22053/22053 [==============================] - 1s 57us/sample - loss: 14111609083.4843 - val_loss: 15604240970.7524\n",
      "Epoch 262/400\n",
      "22053/22053 [==============================] - 1s 55us/sample - loss: 14118394655.8651 - val_loss: 15602499224.3216\n",
      "Epoch 263/400\n",
      "22053/22053 [==============================] - 1s 49us/sample - loss: 14109071862.2257 - val_loss: 15601351345.0224\n",
      "Epoch 264/400\n",
      "22053/22053 [==============================] - 1s 52us/sample - loss: 14106398668.0872 - val_loss: 15626899041.7198\n",
      "Epoch 265/400\n",
      "22053/22053 [==============================] - 1s 51us/sample - loss: 14105975917.6994 - val_loss: 15632853682.7558\n",
      "Epoch 266/400\n",
      "22053/22053 [==============================] - 1s 53us/sample - loss: 14108709422.5961 - val_loss: 15599812198.9200\n",
      "Epoch 267/400\n",
      "22053/22053 [==============================] - 1s 52us/sample - loss: 14113853020.6118 - val_loss: 15592597173.7893\n",
      "Epoch 268/400\n",
      "22053/22053 [==============================] - 1s 57us/sample - loss: 14110098177.3350 - val_loss: 15609267502.9099\n",
      "Epoch 269/400\n",
      "22053/22053 [==============================] - 1s 53us/sample - loss: 14106477993.5174 - val_loss: 15607001900.0931\n",
      "Epoch 270/400\n",
      "22053/22053 [==============================] - 1s 55us/sample - loss: 14103328924.0169 - val_loss: 15586262287.7088\n",
      "Epoch 271/400\n",
      "22053/22053 [==============================] - 1s 55us/sample - loss: 14116241580.4079 - val_loss: 15586485405.3051\n",
      "Epoch 272/400\n",
      "22053/22053 [==============================] - 1s 54us/sample - loss: 14099312742.1075 - val_loss: 15599715020.7567\n",
      "Epoch 273/400\n",
      "22053/22053 [==============================] - 1s 56us/sample - loss: 14106119410.1976 - val_loss: 15607092501.7757\n",
      "Epoch 274/400\n",
      "22053/22053 [==============================] - 1s 54us/sample - loss: 14100161682.5909 - val_loss: 15582980041.3982\n",
      "Epoch 275/400\n",
      "22053/22053 [==============================] - 1s 54us/sample - loss: 14097454753.6586 - val_loss: 15616953039.3567\n",
      "Epoch 276/400\n",
      "22053/22053 [==============================] - 1s 58us/sample - loss: 14096930834.9449 - val_loss: 15606050501.3898\n",
      "Epoch 277/400\n",
      "22053/22053 [==============================] - 1s 56us/sample - loss: 14092454558.9190 - val_loss: 15580298804.6517\n",
      "Epoch 278/400\n",
      "22053/22053 [==============================] - 1s 56us/sample - loss: 14093005757.4607 - val_loss: 15584259763.1892\n",
      "Epoch 279/400\n",
      "22053/22053 [==============================] - 1s 52us/sample - loss: 14089212001.2784 - val_loss: 15606453239.7664\n",
      "Epoch 280/400\n",
      "22053/22053 [==============================] - 1s 51us/sample - loss: 14090254379.9726 - val_loss: 15580727939.9543\n",
      "Epoch 281/400\n",
      "22053/22053 [==============================] - 1s 56us/sample - loss: 14091453177.5109 - val_loss: 15590374682.1092\n",
      "Epoch 282/400\n",
      "22053/22053 [==============================] - 1s 55us/sample - loss: 14090339008.6298 - val_loss: 15585796765.9551\n",
      "Epoch 283/400\n",
      "22053/22053 [==============================] - 1s 58us/sample - loss: 14085024422.8591 - val_loss: 15594430395.5311\n",
      "Epoch 284/400\n",
      "22053/22053 [==============================] - 1s 54us/sample - loss: 14086679900.2984 - val_loss: 15585089866.2107\n",
      "Epoch 285/400\n",
      "22053/22053 [==============================] - 1s 54us/sample - loss: 14084750464.3424 - val_loss: 15581456630.1413\n",
      "Epoch 286/400\n",
      "22053/22053 [==============================] - 1s 55us/sample - loss: 14078678511.2143 - val_loss: 15577758671.8984\n",
      "Epoch 287/400\n",
      "22053/22053 [==============================] - 1s 53us/sample - loss: 14084594723.1502 - val_loss: 15586222261.1392\n",
      "Epoch 288/400\n",
      "22053/22053 [==============================] - 1s 58us/sample - loss: 14084154410.8118 - val_loss: 15587054739.7715\n",
      "Epoch 289/400\n",
      "22053/22053 [==============================] - 1s 54us/sample - loss: 14080004957.0645 - val_loss: 15586891069.6437\n",
      "Epoch 290/400\n",
      "22053/22053 [==============================] - 1s 59us/sample - loss: 14081016552.8412 - val_loss: 15575619435.7952\n",
      "Epoch 291/400\n",
      "22053/22053 [==============================] - 1s 56us/sample - loss: 14081042064.3388 - val_loss: 15581369622.6424\n",
      "Epoch 292/400\n",
      "22053/22053 [==============================] - 1s 55us/sample - loss: 14076514347.8333 - val_loss: 15573231693.1358\n",
      "Epoch 293/400\n",
      "22053/22053 [==============================] - 1s 58us/sample - loss: 14075015196.0923 - val_loss: 15580273949.5760\n",
      "Epoch 294/400\n",
      "22053/22053 [==============================] - 1s 53us/sample - loss: 14071227395.9469 - val_loss: 15571476438.3986\n",
      "Epoch 295/400\n",
      "22053/22053 [==============================] - 1s 50us/sample - loss: 14077540274.2005 - val_loss: 15575030786.1667\n",
      "Epoch 296/400\n",
      "22053/22053 [==============================] - 1s 55us/sample - loss: 14070488403.7082 - val_loss: 15574009513.6555\n",
      "Epoch 297/400\n",
      "22053/22053 [==============================] - 1s 58us/sample - loss: 14067135354.6892 - val_loss: 15603808784.6839\n",
      "Epoch 298/400\n",
      "22053/22053 [==============================] - 1s 57us/sample - loss: 14066072665.9419 - val_loss: 15565828082.9996\n",
      "Epoch 299/400\n",
      "22053/22053 [==============================] - 1s 51us/sample - loss: 14065179884.0916 - val_loss: 15588683066.1769\n",
      "Epoch 300/400\n",
      "22053/22053 [==============================] - 1s 50us/sample - loss: 14060836295.1188 - val_loss: 15637477075.2569\n",
      "Epoch 301/400\n",
      "22053/22053 [==============================] - 1s 52us/sample - loss: 14064056822.6901 - val_loss: 15567331659.0774\n",
      "Epoch 302/400\n",
      "22053/22053 [==============================] - 1s 53us/sample - loss: 14059818658.8194 - val_loss: 15564968538.3529\n",
      "Epoch 303/400\n",
      "22053/22053 [==============================] - 1s 50us/sample - loss: 14065641665.1173 - val_loss: 15570913906.6204\n",
      "Epoch 304/400\n",
      "22053/22053 [==============================] - 1s 54us/sample - loss: 14054589294.0592 - val_loss: 15565331591.6377\n",
      "Epoch 305/400\n",
      "22053/22053 [==============================] - 1s 52us/sample - loss: 14052280287.1714 - val_loss: 15554791909.3491\n",
      "Epoch 306/400\n",
      "22053/22053 [==============================] - 1s 54us/sample - loss: 14052855245.2713 - val_loss: 15561976984.1049\n",
      "Epoch 307/400\n",
      "22053/22053 [==============================] - 1s 51us/sample - loss: 14050318680.2586 - val_loss: 15558165879.7122\n",
      "Epoch 308/400\n",
      "22053/22053 [==============================] - 1s 50us/sample - loss: 14051351521.7717 - val_loss: 15595981977.8383\n",
      "Epoch 309/400\n",
      "22053/22053 [==============================] - 1s 50us/sample - loss: 14042991205.8521 - val_loss: 15562518266.2581\n",
      "Epoch 310/400\n",
      "22053/22053 [==============================] - 1s 49us/sample - loss: 14043352303.1794 - val_loss: 15555827071.5125\n",
      "Epoch 311/400\n",
      "22053/22053 [==============================] - 1s 54us/sample - loss: 14038769959.1319 - val_loss: 15557164534.2497\n",
      "Epoch 312/400\n",
      "22053/22053 [==============================] - 1s 53us/sample - loss: 14033731430.3048 - val_loss: 15545966546.06520s - loss: 1359310695\n",
      "Epoch 313/400\n",
      "22053/22053 [==============================] - 1s 51us/sample - loss: 14047198707.1611 - val_loss: 15544615746.6272\n",
      "Epoch 314/400\n",
      "22053/22053 [==============================] - 1s 54us/sample - loss: 14035225611.7941 - val_loss: 15544271541.3559\n",
      "Epoch 315/400\n",
      "22053/22053 [==============================] - 1s 52us/sample - loss: 14037501133.8633 - val_loss: 15554859385.0123\n"
     ]
    },
    {
     "name": "stdout",
     "output_type": "stream",
     "text": [
      "Epoch 316/400\n",
      "22053/22053 [==============================] - 1s 54us/sample - loss: 14021153284.4344 - val_loss: 15551355361.0157\n",
      "Epoch 317/400\n",
      "22053/22053 [==============================] - 1s 56us/sample - loss: 14023658786.7439 - val_loss: 15553169948.8176\n",
      "Epoch 318/400\n",
      "22053/22053 [==============================] - 1s 53us/sample - loss: 14021367062.7873 - val_loss: 15560269797.1325\n",
      "Epoch 319/400\n",
      "22053/22053 [==============================] - 1s 55us/sample - loss: 14012091341.6196 - val_loss: 15552496058.8811\n",
      "Epoch 320/400\n",
      "22053/22053 [==============================] - 1s 50us/sample - loss: 14011210792.6758 - val_loss: 15564972725.3559\n",
      "Epoch 321/400\n",
      "22053/22053 [==============================] - 1s 51us/sample - loss: 14004348514.6482 - val_loss: 15586086268.9124\n",
      "Epoch 322/400\n",
      "22053/22053 [==============================] - 1s 54us/sample - loss: 14012567705.9041 - val_loss: 15532402626.4647\n",
      "Epoch 323/400\n",
      "22053/22053 [==============================] - 1s 50us/sample - loss: 14001274655.0292 - val_loss: 15569108693.8570\n",
      "Epoch 324/400\n",
      "22053/22053 [==============================] - 1s 54us/sample - loss: 13999511997.6928 - val_loss: 15551308454.6221\n",
      "Epoch 325/400\n",
      "22053/22053 [==============================] - 1s 51us/sample - loss: 13989321587.3294 - val_loss: 15519660442.8134\n",
      "Epoch 326/400\n",
      "22053/22053 [==============================] - 1s 52us/sample - loss: 13987990901.8368 - val_loss: 15531232311.9018\n",
      "Epoch 327/400\n",
      "22053/22053 [==============================] - 1s 54us/sample - loss: 13982112991.8563 - val_loss: 15513714721.8011\n",
      "Epoch 328/400\n",
      "22053/22053 [==============================] - 1s 54us/sample - loss: 13980104289.0694 - val_loss: 15515278020.9564\n",
      "Epoch 329/400\n",
      "22053/22053 [==============================] - 1s 52us/sample - loss: 13980875447.5984 - val_loss: 15513107548.3030\n",
      "Epoch 330/400\n",
      "22053/22053 [==============================] - 1s 52us/sample - loss: 13967116341.5844 - val_loss: 15521162815.0521\n",
      "Epoch 331/400\n",
      "22053/22053 [==============================] - 1s 51us/sample - loss: 13967347106.6453 - val_loss: 15511237277.0884\n",
      "Epoch 332/400\n",
      "22053/22053 [==============================] - 1s 55us/sample - loss: 13958529951.2788 - val_loss: 15502597559.8477\n",
      "Epoch 333/400\n",
      "22053/22053 [==============================] - 1s 54us/sample - loss: 13959444349.3359 - val_loss: 15515844989.3457\n",
      "Epoch 334/400\n",
      "22053/22053 [==============================] - 1s 49us/sample - loss: 13951084998.4920 - val_loss: 15507061120.8125\n",
      "Epoch 335/400\n",
      "22053/22053 [==============================] - 1s 51us/sample - loss: 13945422672.5739 - val_loss: 15494158225.0631\n",
      "Epoch 336/400\n",
      "22053/22053 [==============================] - 1s 52us/sample - loss: 13937983388.5392 - val_loss: 15510836342.3039\n",
      "Epoch 337/400\n",
      "22053/22053 [==============================] - 1s 53us/sample - loss: 13935195628.4747 - val_loss: 15485910023.3669\n",
      "Epoch 338/400\n",
      "22053/22053 [==============================] - 1s 60us/sample - loss: 13931590172.9978 - val_loss: 15529352230.5679\n",
      "Epoch 339/400\n",
      "22053/22053 [==============================] - 1s 55us/sample - loss: 13920270770.3398 - val_loss: 15474411041.5844\n",
      "Epoch 340/400\n",
      "22053/22053 [==============================] - 1s 57us/sample - loss: 13930087277.5717 - val_loss: 15470207627.7545\n",
      "Epoch 341/400\n",
      "22053/22053 [==============================] - 1s 58us/sample - loss: 13914004488.4973 - val_loss: 15467041815.8341\n",
      "Epoch 342/400\n",
      "22053/22053 [==============================] - 1s 55us/sample - loss: 13903732103.8066 - val_loss: 15499925464.9987\n",
      "Epoch 343/400\n",
      "22053/22053 [==============================] - 1s 55us/sample - loss: 13902572494.1303 - val_loss: 15458155009.9501\n",
      "Epoch 344/400\n",
      "22053/22053 [==============================] - 1s 54us/sample - loss: 13894633822.8987 - val_loss: 15459539841.0292\n",
      "Epoch 345/400\n",
      "22053/22053 [==============================] - 1s 55us/sample - loss: 13889204824.0845 - val_loss: 15454449787.0707\n",
      "Epoch 346/400\n",
      "22053/22053 [==============================] - 1s 53us/sample - loss: 13883176015.2621 - val_loss: 15454972043.5379\n",
      "Epoch 347/400\n",
      "22053/22053 [==============================] - 1s 56us/sample - loss: 13875511130.8357 - val_loss: 15440060214.0601\n",
      "Epoch 348/400\n",
      "22053/22053 [==============================] - 1s 62us/sample - loss: 13865181014.7031 - val_loss: 15448530425.7165\n",
      "Epoch 349/400\n",
      "22053/22053 [==============================] - 1s 65us/sample - loss: 13863089271.5201 - val_loss: 15440478116.9970\n",
      "Epoch 350/400\n",
      "22053/22053 [==============================] - 1s 58us/sample - loss: 13859639254.1169 - val_loss: 15440087620.6856\n",
      "Epoch 351/400\n",
      "22053/22053 [==============================] - 1s 57us/sample - loss: 13849355828.0288 - val_loss: 15423912787.0944\n",
      "Epoch 352/400\n",
      "22053/22053 [==============================] - 1s 50us/sample - loss: 13854404448.5006 - val_loss: 15441125963.6191\n",
      "Epoch 353/400\n",
      "22053/22053 [==============================] - 1s 49us/sample - loss: 13841519932.8164 - val_loss: 15415651159.4278\n",
      "Epoch 354/400\n",
      "22053/22053 [==============================] - 1s 50us/sample - loss: 13834382242.6917 - val_loss: 15425582591.7833\n",
      "Epoch 355/400\n",
      "22053/22053 [==============================] - 1s 54us/sample - loss: 13822886174.2631 - val_loss: 15416416248.1997\n",
      "Epoch 356/400\n",
      "22053/22053 [==============================] - 1s 53us/sample - loss: 13827132233.2374 - val_loss: 15429657434.8946\n",
      "Epoch 357/400\n",
      "22053/22053 [==============================] - 1s 51us/sample - loss: 13817554721.8849 - val_loss: 15425499527.7461\n",
      "Epoch 358/400\n",
      "22053/22053 [==============================] - 1s 50us/sample - loss: 13818853118.1775 - val_loss: 15400285617.7808\n",
      "Epoch 359/400\n",
      "22053/22053 [==============================] - 1s 49us/sample - loss: 13805596163.1807 - val_loss: 15430815892.2048\n",
      "Epoch 360/400\n",
      "22053/22053 [==============================] - 1s 51us/sample - loss: 13798910426.6210 - val_loss: 15391978285.8265\n",
      "Epoch 361/400\n",
      "22053/22053 [==============================] - 1s 50us/sample - loss: 13792369744.9802 - val_loss: 15405510786.0042\n",
      "Epoch 362/400\n",
      "22053/22053 [==============================] - 1s 51us/sample - loss: 13783395520.4672 - val_loss: 15408551912.5992\n",
      "Epoch 363/400\n",
      "22053/22053 [==============================] - 1s 50us/sample - loss: 13778889907.5123 - val_loss: 15396080539.0300\n",
      "Epoch 364/400\n",
      "22053/22053 [==============================] - 1s 51us/sample - loss: 13772057258.7595 - val_loss: 15383838634.1972\n",
      "Epoch 365/400\n",
      "22053/22053 [==============================] - 1s 50us/sample - loss: 13769170172.5523 - val_loss: 15384111602.3496\n",
      "Epoch 366/400\n",
      "22053/22053 [==============================] - 1s 49us/sample - loss: 13770167534.6222 - val_loss: 15397988361.5336\n",
      "Epoch 367/400\n",
      "22053/22053 [==============================] - 1s 50us/sample - loss: 13763940440.6882 - val_loss: 15406042648.9175\n",
      "Epoch 368/400\n",
      "22053/22053 [==============================] - 1s 55us/sample - loss: 13761421514.4969 - val_loss: 15374997429.4642\n",
      "Epoch 369/400\n",
      "22053/22053 [==============================] - 1s 51us/sample - loss: 13746925662.3066 - val_loss: 15372550162.2006\n",
      "Epoch 370/400\n",
      "22053/22053 [==============================] - 1s 49us/sample - loss: 13745692558.0055 - val_loss: 15369570752.0813\n",
      "Epoch 371/400\n",
      "22053/22053 [==============================] - 1s 52us/sample - loss: 13744553174.2910 - val_loss: 15373651627.3889\n",
      "Epoch 372/400\n",
      "22053/22053 [==============================] - 1s 47us/sample - loss: 13734868917.3464 - val_loss: 15377012752.4672\n",
      "Epoch 373/400\n",
      "22053/22053 [==============================] - 1s 50us/sample - loss: 13730100278.2809 - val_loss: 15364811736.5654\n",
      "Epoch 374/400\n",
      "22053/22053 [==============================] - 1s 53us/sample - loss: 13731011062.5508 - val_loss: 15368475235.0199\n",
      "Epoch 375/400\n",
      "22053/22053 [==============================] - 1s 51us/sample - loss: 13727465657.3165 - val_loss: 15362559897.7300\n",
      "Epoch 376/400\n",
      "22053/22053 [==============================] - 1s 49us/sample - loss: 13718723966.3806 - val_loss: 15379613992.4096\n",
      "Epoch 377/400\n",
      "22053/22053 [==============================] - 1s 47us/sample - loss: 13718948666.4715 - val_loss: 15356754992.1016\n",
      "Epoch 378/400\n",
      "22053/22053 [==============================] - 1s 53us/sample - loss: 13715459450.6659 - val_loss: 15355104806.7846\n",
      "Epoch 379/400\n"
     ]
    },
    {
     "name": "stdout",
     "output_type": "stream",
     "text": [
      "22053/22053 [==============================] - 1s 55us/sample - loss: 13705006276.9713 - val_loss: 15382802893.9484\n",
      "Epoch 380/400\n",
      "22053/22053 [==============================] - 1s 57us/sample - loss: 13711743723.1165 - val_loss: 15380227085.4338\n",
      "Epoch 381/400\n",
      "22053/22053 [==============================] - 1s 57us/sample - loss: 13705439473.0368 - val_loss: 15357340896.9073\n",
      "Epoch 382/400\n",
      "22053/22053 [==============================] - 1s 51us/sample - loss: 13699785690.9924 - val_loss: 15376408423.4617\n",
      "Epoch 383/400\n",
      "22053/22053 [==============================] - 1s 52us/sample - loss: 13697210337.9342 - val_loss: 15356609007.7495\n",
      "Epoch 384/400\n",
      "22053/22053 [==============================] - 1s 52us/sample - loss: 13699049153.1405 - val_loss: 15362931348.4215\n",
      "Epoch 385/400\n",
      "22053/22053 [==============================] - 1s 53us/sample - loss: 13691018914.5408 - val_loss: 15410452790.2768\n",
      "Epoch 386/400\n",
      "22053/22053 [==============================] - 1s 56us/sample - loss: 13691270046.7216 - val_loss: 15368459241.0326\n",
      "Epoch 387/400\n",
      "22053/22053 [==============================] - 1s 59us/sample - loss: 13680141877.6540 - val_loss: 15353272681.4118\n",
      "Epoch 388/400\n",
      "22053/22053 [==============================] - 1s 60us/sample - loss: 13683442291.6429 - val_loss: 15355210470.7575\n",
      "Epoch 389/400\n",
      "22053/22053 [==============================] - 1s 56us/sample - loss: 13671606784.5340 - val_loss: 15351934570.3868\n",
      "Epoch 390/400\n",
      "22053/22053 [==============================] - 1s 57us/sample - loss: 13677439460.6042 - val_loss: 15360336146.7423\n",
      "Epoch 391/400\n",
      "22053/22053 [==============================] - 1s 56us/sample - loss: 13679263313.9321 - val_loss: 15350483589.6877\n",
      "Epoch 392/400\n",
      "22053/22053 [==============================] - 1s 54us/sample - loss: 13667990887.1638 - val_loss: 15373452610.8438\n",
      "Epoch 393/400\n",
      "22053/22053 [==============================] - 1s 55us/sample - loss: 13655022628.1718 - val_loss: 15401218901.6945\n",
      "Epoch 394/400\n",
      "22053/22053 [==============================] - 1s 56us/sample - loss: 13672856119.8828 - val_loss: 15349997824.5417\n",
      "Epoch 395/400\n",
      "22053/22053 [==============================] - 1s 55us/sample - loss: 13658016973.4686 - val_loss: 15352947648.2979\n",
      "Epoch 396/400\n",
      "22053/22053 [==============================] - 1s 51us/sample - loss: 13657575468.0190 - val_loss: 15393572324.9158\n",
      "Epoch 397/400\n",
      "22053/22053 [==============================] - 1s 51us/sample - loss: 13660118865.5026 - val_loss: 15380263109.6064\n",
      "Epoch 398/400\n",
      "22053/22053 [==============================] - 1s 48us/sample - loss: 13654755069.2720 - val_loss: 15378029329.2256\n",
      "Epoch 399/400\n",
      "22053/22053 [==============================] - 1s 50us/sample - loss: 13643374684.4957 - val_loss: 15348403166.6322\n",
      "Epoch 400/400\n",
      "22053/22053 [==============================] - 1s 51us/sample - loss: 13646388407.2270 - val_loss: 15347189708.8650\n"
     ]
    },
    {
     "data": {
      "text/plain": [
       "<tensorflow.python.keras.callbacks.History at 0x23f84555408>"
      ]
     },
     "execution_count": 357,
     "metadata": {},
     "output_type": "execute_result"
    }
   ],
   "source": [
    "model.fit(x=X_train,y=y_train,\n",
    "         validation_data=(X_test,y_test),\n",
    "         batch_size=128,epochs=400)"
   ]
  },
  {
   "cell_type": "code",
   "execution_count": 359,
   "metadata": {},
   "outputs": [],
   "source": [
    "\n",
    "losses = pd.DataFrame(model.history.history)"
   ]
  },
  {
   "cell_type": "code",
   "execution_count": 360,
   "metadata": {},
   "outputs": [
    {
     "data": {
      "text/plain": [
       "<matplotlib.axes._subplots.AxesSubplot at 0x23f850a1808>"
      ]
     },
     "execution_count": 360,
     "metadata": {},
     "output_type": "execute_result"
    },
    {
     "data": {
      "image/png": "[encoded data removed]",
      "text/plain": [
       "<Figure size 432x288 with 1 Axes>"
      ]
     },
     "metadata": {
      "needs_background": "light"
     },
     "output_type": "display_data"
    }
   ],
   "source": [
    "losses.plot()"
   ]
  },
  {
   "cell_type": "code",
   "execution_count": 361,
   "metadata": {},
   "outputs": [],
   "source": [
    "from sklearn.metrics import mean_squared_error,mean_absolute_error,explained_variance_score"
   ]
  },
  {
   "cell_type": "code",
   "execution_count": 362,
   "metadata": {},
   "outputs": [],
   "source": [
    "predictions = model.predict(X_test)"
   ]
  },
  {
   "cell_type": "code",
   "execution_count": 363,
   "metadata": {},
   "outputs": [
    {
     "data": {
      "text/plain": [
       "123883.77602370057"
      ]
     },
     "execution_count": 363,
     "metadata": {},
     "output_type": "execute_result"
    }
   ],
   "source": [
    "np.sqrt(mean_squared_error(y_test,predictions))"
   ]
  },
  {
   "cell_type": "code",
   "execution_count": 364,
   "metadata": {},
   "outputs": [
    {
     "data": {
      "text/plain": [
       "78278.65035425704"
      ]
     },
     "execution_count": 364,
     "metadata": {},
     "output_type": "execute_result"
    }
   ],
   "source": [
    "mean_absolute_error(y_test,predictions)"
   ]
  },
  {
   "cell_type": "code",
   "execution_count": 365,
   "metadata": {},
   "outputs": [
    {
     "data": {
      "text/plain": [
       "362128.08268528804"
      ]
     },
     "execution_count": 365,
     "metadata": {},
     "output_type": "execute_result"
    }
   ],
   "source": [
    "df['price_paid'].mean()"
   ]
  },
  {
   "cell_type": "code",
   "execution_count": 366,
   "metadata": {},
   "outputs": [
    {
     "data": {
      "text/plain": [
       "0.5033550102613931"
      ]
     },
     "execution_count": 366,
     "metadata": {},
     "output_type": "execute_result"
    }
   ],
   "source": [
    "explained_variance_score(y_test,predictions)"
   ]
  },
  {
   "cell_type": "code",
   "execution_count": 367,
   "metadata": {},
   "outputs": [
    {
     "data": {
      "text/plain": [
       "[<matplotlib.lines.Line2D at 0x23f85922ac8>]"
      ]
     },
     "execution_count": 367,
     "metadata": {},
     "output_type": "execute_result"
    },
    {
     "data": {
      "image/png": "[encoded data removed]",
      "text/plain": [
       "<Figure size 864x432 with 1 Axes>"
      ]
     },
     "metadata": {
      "needs_background": "light"
     },
     "output_type": "display_data"
    }
   ],
   "source": [
    "plt.figure(figsize=(12,6))\n",
    "plt.scatter(y_test,predictions)\n",
    "plt.plot(y_test,y_test,'r')"
   ]
  },
  {
   "cell_type": "code",
   "execution_count": 368,
   "metadata": {},
   "outputs": [],
   "source": [
    "#Outliers so properties in excess of 1 million may be better to remove"
   ]
  },
  {
   "cell_type": "code",
   "execution_count": 370,
   "metadata": {},
   "outputs": [],
   "source": [
    "new_house = df.drop('price_paid',axis=1).iloc[99]"
   ]
  },
  {
   "cell_type": "code",
   "execution_count": 372,
   "metadata": {},
   "outputs": [],
   "source": [
    "new_house = scaler.transform(new_house.values.reshape(-1,37))"
   ]
  },
  {
   "cell_type": "code",
   "execution_count": 373,
   "metadata": {},
   "outputs": [
    {
     "data": {
      "text/plain": [
       "array([[498909.12]], dtype=float32)"
      ]
     },
     "execution_count": 373,
     "metadata": {},
     "output_type": "execute_result"
    }
   ],
   "source": [
    "model.predict(new_house)"
   ]
  },
  {
   "cell_type": "code",
   "execution_count": 376,
   "metadata": {},
   "outputs": [
    {
     "data": {
      "text/plain": [
       "625000"
      ]
     },
     "execution_count": 376,
     "metadata": {},
     "output_type": "execute_result"
    }
   ],
   "source": [
    "df.iloc[99]['price_paid']"
   ]
  },
  {
   "cell_type": "code",
   "execution_count": 377,
   "metadata": {},
   "outputs": [],
   "source": [
    "#Attempt two - removing properties between 1 to 2 million"
   ]
  },
  {
   "cell_type": "code",
   "execution_count": 417,
   "metadata": {},
   "outputs": [],
   "source": [
    "df1 = df[df['price_paid'] <= 800000 ] "
   ]
  },
  {
   "cell_type": "code",
   "execution_count": 418,
   "metadata": {},
   "outputs": [
    {
     "data": {
      "text/html": [
       "<div>\n",
       "<style scoped>\n",
       "    .dataframe tbody tr th:only-of-type {\n",
       "        vertical-align: middle;\n",
       "    }\n",
       "\n",
       "    .dataframe tbody tr th {\n",
       "        vertical-align: top;\n",
       "    }\n",
       "\n",
       "    .dataframe thead th {\n",
       "        text-align: right;\n",
       "    }\n",
       "</style>\n",
       "<table border=\"1\" class=\"dataframe\">\n",
       "  <thead>\n",
       "    <tr style=\"text-align: right;\">\n",
       "      <th></th>\n",
       "      <th>price_paid</th>\n",
       "      <th>new_build</th>\n",
       "      <th>year</th>\n",
       "      <th>Detached</th>\n",
       "      <th>Flat Maisonette</th>\n",
       "      <th>Other</th>\n",
       "      <th>Semi-Detached</th>\n",
       "      <th>Terraced</th>\n",
       "      <th>Freehold</th>\n",
       "      <th>Leasehold</th>\n",
       "      <th>...</th>\n",
       "      <th>E4 8</th>\n",
       "      <th>E4 9</th>\n",
       "      <th>E5 9</th>\n",
       "      <th>E7 0</th>\n",
       "      <th>E7 9</th>\n",
       "      <th>E9 5</th>\n",
       "      <th>EN3 4</th>\n",
       "      <th>IG8 0</th>\n",
       "      <th>IG8 9</th>\n",
       "      <th>N17 9</th>\n",
       "    </tr>\n",
       "  </thead>\n",
       "  <tbody>\n",
       "    <tr>\n",
       "      <td>2</td>\n",
       "      <td>300000</td>\n",
       "      <td>0</td>\n",
       "      <td>2014</td>\n",
       "      <td>0</td>\n",
       "      <td>0</td>\n",
       "      <td>0</td>\n",
       "      <td>0</td>\n",
       "      <td>1</td>\n",
       "      <td>1</td>\n",
       "      <td>0</td>\n",
       "      <td>...</td>\n",
       "      <td>0</td>\n",
       "      <td>0</td>\n",
       "      <td>0</td>\n",
       "      <td>0</td>\n",
       "      <td>0</td>\n",
       "      <td>0</td>\n",
       "      <td>0</td>\n",
       "      <td>0</td>\n",
       "      <td>0</td>\n",
       "      <td>0</td>\n",
       "    </tr>\n",
       "    <tr>\n",
       "      <td>3</td>\n",
       "      <td>475000</td>\n",
       "      <td>0</td>\n",
       "      <td>2019</td>\n",
       "      <td>0</td>\n",
       "      <td>0</td>\n",
       "      <td>1</td>\n",
       "      <td>0</td>\n",
       "      <td>0</td>\n",
       "      <td>1</td>\n",
       "      <td>0</td>\n",
       "      <td>...</td>\n",
       "      <td>0</td>\n",
       "      <td>0</td>\n",
       "      <td>0</td>\n",
       "      <td>0</td>\n",
       "      <td>0</td>\n",
       "      <td>0</td>\n",
       "      <td>0</td>\n",
       "      <td>0</td>\n",
       "      <td>0</td>\n",
       "      <td>0</td>\n",
       "    </tr>\n",
       "    <tr>\n",
       "      <td>4</td>\n",
       "      <td>250000</td>\n",
       "      <td>0</td>\n",
       "      <td>2014</td>\n",
       "      <td>0</td>\n",
       "      <td>1</td>\n",
       "      <td>0</td>\n",
       "      <td>0</td>\n",
       "      <td>0</td>\n",
       "      <td>0</td>\n",
       "      <td>1</td>\n",
       "      <td>...</td>\n",
       "      <td>0</td>\n",
       "      <td>0</td>\n",
       "      <td>0</td>\n",
       "      <td>0</td>\n",
       "      <td>0</td>\n",
       "      <td>0</td>\n",
       "      <td>0</td>\n",
       "      <td>0</td>\n",
       "      <td>0</td>\n",
       "      <td>0</td>\n",
       "    </tr>\n",
       "    <tr>\n",
       "      <td>5</td>\n",
       "      <td>145000</td>\n",
       "      <td>0</td>\n",
       "      <td>2012</td>\n",
       "      <td>0</td>\n",
       "      <td>1</td>\n",
       "      <td>0</td>\n",
       "      <td>0</td>\n",
       "      <td>0</td>\n",
       "      <td>0</td>\n",
       "      <td>1</td>\n",
       "      <td>...</td>\n",
       "      <td>0</td>\n",
       "      <td>0</td>\n",
       "      <td>0</td>\n",
       "      <td>0</td>\n",
       "      <td>0</td>\n",
       "      <td>0</td>\n",
       "      <td>0</td>\n",
       "      <td>0</td>\n",
       "      <td>0</td>\n",
       "      <td>0</td>\n",
       "    </tr>\n",
       "    <tr>\n",
       "      <td>6</td>\n",
       "      <td>215000</td>\n",
       "      <td>0</td>\n",
       "      <td>2014</td>\n",
       "      <td>0</td>\n",
       "      <td>1</td>\n",
       "      <td>0</td>\n",
       "      <td>0</td>\n",
       "      <td>0</td>\n",
       "      <td>0</td>\n",
       "      <td>1</td>\n",
       "      <td>...</td>\n",
       "      <td>0</td>\n",
       "      <td>0</td>\n",
       "      <td>0</td>\n",
       "      <td>0</td>\n",
       "      <td>0</td>\n",
       "      <td>0</td>\n",
       "      <td>0</td>\n",
       "      <td>0</td>\n",
       "      <td>0</td>\n",
       "      <td>0</td>\n",
       "    </tr>\n",
       "  </tbody>\n",
       "</table>\n",
       "<p>5 rows × 38 columns</p>\n",
       "</div>"
      ],
      "text/plain": [
       "   price_paid  new_build  year  Detached  Flat Maisonette  Other  \\\n",
       "2      300000          0  2014         0                0      0   \n",
       "3      475000          0  2019         0                0      1   \n",
       "4      250000          0  2014         0                1      0   \n",
       "5      145000          0  2012         0                1      0   \n",
       "6      215000          0  2014         0                1      0   \n",
       "\n",
       "   Semi-Detached  Terraced  Freehold  Leasehold  ...  E4 8  E4 9  E5 9  E7 0  \\\n",
       "2              0         1         1          0  ...     0     0     0     0   \n",
       "3              0         0         1          0  ...     0     0     0     0   \n",
       "4              0         0         0          1  ...     0     0     0     0   \n",
       "5              0         0         0          1  ...     0     0     0     0   \n",
       "6              0         0         0          1  ...     0     0     0     0   \n",
       "\n",
       "   E7 9  E9 5  EN3 4  IG8 0  IG8 9  N17 9  \n",
       "2     0     0      0      0      0      0  \n",
       "3     0     0      0      0      0      0  \n",
       "4     0     0      0      0      0      0  \n",
       "5     0     0      0      0      0      0  \n",
       "6     0     0      0      0      0      0  \n",
       "\n",
       "[5 rows x 38 columns]"
      ]
     },
     "execution_count": 418,
     "metadata": {},
     "output_type": "execute_result"
    }
   ],
   "source": [
    "df1.head()"
   ]
  },
  {
   "cell_type": "code",
   "execution_count": 419,
   "metadata": {},
   "outputs": [],
   "source": [
    "X = df1.drop('price_paid',axis=1).values\n",
    "y = df1['price_paid'].values"
   ]
  },
  {
   "cell_type": "code",
   "execution_count": 420,
   "metadata": {},
   "outputs": [],
   "source": [
    "X_train, X_test, y_train, y_test = train_test_split(X, y, test_size=0.3, random_state=101)"
   ]
  },
  {
   "cell_type": "code",
   "execution_count": 421,
   "metadata": {},
   "outputs": [],
   "source": [
    "scaler = MinMaxScaler()"
   ]
  },
  {
   "cell_type": "code",
   "execution_count": 422,
   "metadata": {},
   "outputs": [],
   "source": [
    "X_train = scaler.fit_transform(X_train)\n",
    "X_test = scaler.transform(X_test)"
   ]
  },
  {
   "cell_type": "code",
   "execution_count": 423,
   "metadata": {},
   "outputs": [],
   "source": [
    "model = Sequential()\n",
    "\n",
    "model.add(Dense(19,activation='relu'))\n",
    "model.add(Dense(19,activation='relu'))\n",
    "model.add(Dense(19,activation='relu'))\n",
    "model.add(Dense(19,activation='relu'))\n",
    "\n",
    "model.add(Dense(1))\n",
    "\n",
    "model.compile(optimizer='adam',loss='mse')"
   ]
  },
  {
   "cell_type": "code",
   "execution_count": 424,
   "metadata": {},
   "outputs": [
    {
     "name": "stdout",
     "output_type": "stream",
     "text": [
      "Train on 21682 samples, validate on 9293 samples\n",
      "Epoch 1/50\n",
      "21682/21682 [==============================] - 3s 121us/sample - loss: 145232008068.3568 - val_loss: 147142101204.2268\n",
      "Epoch 2/50\n",
      "21682/21682 [==============================] - 1s 54us/sample - loss: 140029829279.4421 - val_loss: 129062554557.1144\n",
      "Epoch 3/50\n",
      "21682/21682 [==============================] - 1s 52us/sample - loss: 87573968592.4177 - val_loss: 41310758430.0269\n",
      "Epoch 4/50\n",
      "21682/21682 [==============================] - 1s 53us/sample - loss: 22928289399.5344 - val_loss: 17413429823.4146\n",
      "Epoch 5/50\n",
      "21682/21682 [==============================] - 1s 54us/sample - loss: 16156530783.6842 - val_loss: 15381428254.1922\n",
      "Epoch 6/50\n",
      "21682/21682 [==============================] - 1s 52us/sample - loss: 14721424179.7856 - val_loss: 14360910180.0254\n",
      "Epoch 7/50\n",
      "21682/21682 [==============================] - 1s 53us/sample - loss: 13924871199.9262 - val_loss: 13720561476.1253\n",
      "Epoch 8/50\n",
      "21682/21682 [==============================] - 1s 52us/sample - loss: 13392192084.6800 - val_loss: 13260634449.2930\n",
      "Epoch 9/50\n",
      "21682/21682 [==============================] - 1s 54us/sample - loss: 12972624028.7029 - val_loss: 12870602024.4124\n",
      "Epoch 10/50\n",
      "21682/21682 [==============================] - 1s 53us/sample - loss: 12606143769.1017 - val_loss: 12529145191.5515\n",
      "Epoch 11/50\n",
      "21682/21682 [==============================] - 1s 55us/sample - loss: 12272662381.5928 - val_loss: 12196047813.4889\n",
      "Epoch 12/50\n",
      "21682/21682 [==============================] - 1s 55us/sample - loss: 11957666022.9455 - val_loss: 11897583998.3609\n",
      "Epoch 13/50\n",
      "21682/21682 [==============================] - 1s 54us/sample - loss: 11667295057.2560 - val_loss: 11608082719.2665\n",
      "Epoch 14/50\n",
      "21682/21682 [==============================] - 1s 51us/sample - loss: 11389627675.0853 - val_loss: 11336603135.1736\n",
      "Epoch 15/50\n",
      "21682/21682 [==============================] - 1s 51us/sample - loss: 11127944288.9121 - val_loss: 11081593297.4445\n",
      "Epoch 16/50\n",
      "21682/21682 [==============================] - 1s 57us/sample - loss: 10888791987.8683 - val_loss: 10848785678.4074\n",
      "Epoch 17/50\n",
      "21682/21682 [==============================] - 1s 54us/sample - loss: 10661380267.0602 - val_loss: 10643559596.2277\n",
      "Epoch 18/50\n",
      "21682/21682 [==============================] - 1s 51us/sample - loss: 10460278455.0562 - val_loss: 10439846066.0678\n",
      "Epoch 19/50\n",
      "21682/21682 [==============================] - 1s 53us/sample - loss: 10280344958.0755 - val_loss: 10270015590.0364\n",
      "Epoch 20/50\n",
      "21682/21682 [==============================] - 1s 53us/sample - loss: 10122660646.8451 - val_loss: 10139634469.3821\n",
      "Epoch 21/50\n",
      "21682/21682 [==============================] - 1s 58us/sample - loss: 9990348755.9834 - val_loss: 10000354425.8707\n",
      "Epoch 22/50\n",
      "21682/21682 [==============================] - 1s 53us/sample - loss: 9885571848.7136 - val_loss: 9922011446.7371\n",
      "Epoch 23/50\n",
      "21682/21682 [==============================] - 1s 52us/sample - loss: 9799777419.5591 - val_loss: 9829844899.1094\n",
      "Epoch 24/50\n",
      "21682/21682 [==============================] - 1s 52us/sample - loss: 9733075733.2290 - val_loss: 9786202031.7813\n",
      "Epoch 25/50\n",
      "21682/21682 [==============================] - 1s 52us/sample - loss: 9687619240.2265 - val_loss: 9745080831.0634\n",
      "Epoch 26/50\n",
      "21682/21682 [==============================] - 1s 52us/sample - loss: 9648458860.3413 - val_loss: 9703508133.9468\n",
      "Epoch 27/50\n",
      "21682/21682 [==============================] - 1s 51us/sample - loss: 9617348221.6740 - val_loss: 9665152230.9592\n",
      "Epoch 28/50\n",
      "21682/21682 [==============================] - 1s 51us/sample - loss: 9595444844.8608 - val_loss: 9657540567.0091\n",
      "Epoch 29/50\n",
      "21682/21682 [==============================] - 1s 56us/sample - loss: 9583189840.9726 - val_loss: 9630520686.9343\n",
      "Epoch 30/50\n",
      "21682/21682 [==============================] - 1s 55us/sample - loss: 9571990205.3847 - val_loss: 9620562382.3592\n",
      "Epoch 31/50\n",
      "21682/21682 [==============================] - 1s 62us/sample - loss: 9562384577.6353 - val_loss: 9609358867.4486\n",
      "Epoch 32/50\n",
      "21682/21682 [==============================] - 1s 59us/sample - loss: 9554385029.1833 - val_loss: 9604013412.7967\n",
      "Epoch 33/50\n",
      "21682/21682 [==============================] - 1s 54us/sample - loss: 9548342024.4302 - val_loss: 9592152270.6071\n",
      "Epoch 34/50\n",
      "21682/21682 [==============================] - 1s 56us/sample - loss: 9536866358.1234 - val_loss: 9596182336.2686\n",
      "Epoch 35/50\n",
      "21682/21682 [==============================] - 1s 56us/sample - loss: 9524588183.6967 - val_loss: 9576985706.5542\n",
      "Epoch 36/50\n",
      "21682/21682 [==============================] - 1s 58us/sample - loss: 9518034271.8967 - val_loss: 9566671105.2947\n",
      "Epoch 37/50\n",
      "21682/21682 [==============================] - 1s 56us/sample - loss: 9504478131.1599 - val_loss: 9547409405.9064\n",
      "Epoch 38/50\n",
      "21682/21682 [==============================] - 1s 56us/sample - loss: 9494798682.0876 - val_loss: 9537989945.1613\n",
      "Epoch 39/50\n",
      "21682/21682 [==============================] - 1s 57us/sample - loss: 9478571341.4777 - val_loss: 9525539417.8603\n",
      "Epoch 40/50\n",
      "21682/21682 [==============================] - 1s 53us/sample - loss: 9467349945.9135 - val_loss: 9526308585.7691\n",
      "Epoch 41/50\n",
      "21682/21682 [==============================] - 1s 52us/sample - loss: 9459959710.7101 - val_loss: 9507095390.4608\n",
      "Epoch 42/50\n",
      "21682/21682 [==============================] - 1s 52us/sample - loss: 9449787288.1926 - val_loss: 9514823176.5398\n",
      "Epoch 43/50\n",
      "21682/21682 [==============================] - 1s 52us/sample - loss: 9442805865.6021 - val_loss: 9492269691.3582\n",
      "Epoch 44/50\n",
      "21682/21682 [==============================] - 1s 57us/sample - loss: 9437436874.3489 - val_loss: 9481528770.5688\n",
      "Epoch 45/50\n",
      "21682/21682 [==============================] - 1s 56us/sample - loss: 9422545849.2523 - val_loss: 9478853187.7120\n",
      "Epoch 46/50\n",
      "21682/21682 [==============================] - 1s 58us/sample - loss: 9417771443.2071 - val_loss: 9461983791.2166\n",
      "Epoch 47/50\n",
      "21682/21682 [==============================] - 1s 56us/sample - loss: 9406622844.2099 - val_loss: 9452297168.9487\n",
      "Epoch 48/50\n",
      "21682/21682 [==============================] - 1s 59us/sample - loss: 9395880248.2723 - val_loss: 9452983609.6021\n",
      "Epoch 49/50\n",
      "21682/21682 [==============================] - 1s 58us/sample - loss: 9391147295.3359 - val_loss: 9442956700.8837\n",
      "Epoch 50/50\n",
      "21682/21682 [==============================] - 1s 58us/sample - loss: 9380189686.5071 - val_loss: 9433175468.5307\n"
     ]
    },
    {
     "data": {
      "text/plain": [
       "<tensorflow.python.keras.callbacks.History at 0x23f8791c608>"
      ]
     },
     "execution_count": 424,
     "metadata": {},
     "output_type": "execute_result"
    }
   ],
   "source": [
    "model.fit(x=X_train,y=y_train,\n",
    "         validation_data=(X_test,y_test),\n",
    "         batch_size=128,epochs=50)"
   ]
  },
  {
   "cell_type": "code",
   "execution_count": 425,
   "metadata": {},
   "outputs": [],
   "source": [
    "losses = pd.DataFrame(model.history.history)"
   ]
  },
  {
   "cell_type": "code",
   "execution_count": 426,
   "metadata": {},
   "outputs": [
    {
     "data": {
      "text/plain": [
       "<matplotlib.axes._subplots.AxesSubplot at 0x23f87bf7ac8>"
      ]
     },
     "execution_count": 426,
     "metadata": {},
     "output_type": "execute_result"
    },
    {
     "data": {
      "image/png": "[encoded data removed]",
      "text/plain": [
       "<Figure size 432x288 with 1 Axes>"
      ]
     },
     "metadata": {
      "needs_background": "light"
     },
     "output_type": "display_data"
    }
   ],
   "source": [
    "losses.plot()"
   ]
  },
  {
   "cell_type": "code",
   "execution_count": 427,
   "metadata": {},
   "outputs": [],
   "source": [
    "predictions = model.predict(X_test)"
   ]
  },
  {
   "cell_type": "code",
   "execution_count": 428,
   "metadata": {},
   "outputs": [
    {
     "data": {
      "text/plain": [
       "97124.53599895725"
      ]
     },
     "execution_count": 428,
     "metadata": {},
     "output_type": "execute_result"
    }
   ],
   "source": [
    "np.sqrt(mean_squared_error(y_test,predictions))"
   ]
  },
  {
   "cell_type": "code",
   "execution_count": 429,
   "metadata": {},
   "outputs": [
    {
     "data": {
      "text/plain": [
       "72640.23869343598"
      ]
     },
     "execution_count": 429,
     "metadata": {},
     "output_type": "execute_result"
    }
   ],
   "source": [
    "mean_absolute_error(y_test,predictions)"
   ]
  },
  {
   "cell_type": "code",
   "execution_count": 430,
   "metadata": {},
   "outputs": [
    {
     "data": {
      "text/plain": [
       "351179.0261824052"
      ]
     },
     "execution_count": 430,
     "metadata": {},
     "output_type": "execute_result"
    }
   ],
   "source": [
    "df1['price_paid'].mean()"
   ]
  },
  {
   "cell_type": "code",
   "execution_count": 431,
   "metadata": {},
   "outputs": [
    {
     "data": {
      "text/plain": [
       "0.5865220005445895"
      ]
     },
     "execution_count": 431,
     "metadata": {},
     "output_type": "execute_result"
    }
   ],
   "source": [
    "explained_variance_score(y_test,predictions)"
   ]
  },
  {
   "cell_type": "code",
   "execution_count": 432,
   "metadata": {},
   "outputs": [
    {
     "data": {
      "text/plain": [
       "[<matplotlib.lines.Line2D at 0x23f87cb31c8>]"
      ]
     },
     "execution_count": 432,
     "metadata": {},
     "output_type": "execute_result"
    },
    {
     "data": {
      "image/png": "[encoded data removed]",
      "text/plain": [
       "<Figure size 864x432 with 1 Axes>"
      ]
     },
     "metadata": {
      "needs_background": "light"
     },
     "output_type": "display_data"
    }
   ],
   "source": [
    "plt.figure(figsize=(12,6))\n",
    "plt.scatter(y_test,predictions)\n",
    "plt.plot(y_test,y_test,'r')"
   ]
  },
  {
   "cell_type": "code",
   "execution_count": 437,
   "metadata": {},
   "outputs": [],
   "source": [
    "new_house = df1.drop('price_paid',axis=1).iloc[109]"
   ]
  },
  {
   "cell_type": "code",
   "execution_count": 438,
   "metadata": {},
   "outputs": [],
   "source": [
    "new_house = scaler.transform(new_house.values.reshape(-1,37))"
   ]
  },
  {
   "cell_type": "code",
   "execution_count": 439,
   "metadata": {},
   "outputs": [
    {
     "data": {
      "text/plain": [
       "array([[149623.53]], dtype=float32)"
      ]
     },
     "execution_count": 439,
     "metadata": {},
     "output_type": "execute_result"
    }
   ],
   "source": [
    "model.predict(new_house)"
   ]
  },
  {
   "cell_type": "code",
   "execution_count": 440,
   "metadata": {},
   "outputs": [
    {
     "data": {
      "text/plain": [
       "120000"
      ]
     },
     "execution_count": 440,
     "metadata": {},
     "output_type": "execute_result"
    }
   ],
   "source": [
    "df1.iloc[109]['price_paid']"
   ]
  },
  {
   "cell_type": "code",
   "execution_count": null,
   "metadata": {},
   "outputs": [],
   "source": []
  }
 ],
 "metadata": {
  "kernelspec": {
   "display_name": "Python 3",
   "language": "python",
   "name": "python3"
  },
  "language_info": {
   "codemirror_mode": {
    "name": "ipython",
    "version": 3
   },
   "file_extension": ".py",
   "mimetype": "text/x-python",
   "name": "python",
   "nbconvert_exporter": "python",
   "pygments_lexer": "ipython3",
   "version": "3.8.5"
  }
 },
 "nbformat": 4,
 "nbformat_minor": 2
}
